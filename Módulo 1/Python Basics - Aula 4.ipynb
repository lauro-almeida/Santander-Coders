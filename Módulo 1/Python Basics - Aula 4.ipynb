{
 "cells": [
  {
   "cell_type": "code",
   "execution_count": null,
   "id": "26739ba2",
   "metadata": {},
   "outputs": [],
   "source": [
    "Operadores Aritméticos"
   ]
  },
  {
   "cell_type": "code",
   "execution_count": 9,
   "id": "0433e90c",
   "metadata": {},
   "outputs": [
    {
     "data": {
      "text/plain": [
       "2"
      ]
     },
     "execution_count": 9,
     "metadata": {},
     "output_type": "execute_result"
    }
   ],
   "source": [
    "1 + 1"
   ]
  },
  {
   "cell_type": "code",
   "execution_count": 10,
   "id": "2ed0eb93",
   "metadata": {},
   "outputs": [
    {
     "data": {
      "text/plain": [
       "1"
      ]
     },
     "execution_count": 10,
     "metadata": {},
     "output_type": "execute_result"
    }
   ],
   "source": [
    "2 - 1"
   ]
  },
  {
   "cell_type": "code",
   "execution_count": 11,
   "id": "ebefb341",
   "metadata": {},
   "outputs": [
    {
     "data": {
      "text/plain": [
       "30"
      ]
     },
     "execution_count": 11,
     "metadata": {},
     "output_type": "execute_result"
    }
   ],
   "source": [
    "5 * 6"
   ]
  },
  {
   "cell_type": "code",
   "execution_count": 20,
   "id": "1a41bfe7",
   "metadata": {},
   "outputs": [
    {
     "data": {
      "text/plain": [
       "4.666666666666667"
      ]
     },
     "execution_count": 20,
     "metadata": {},
     "output_type": "execute_result"
    }
   ],
   "source": [
    "14 / 3"
   ]
  },
  {
   "cell_type": "code",
   "execution_count": 21,
   "id": "d6982f08",
   "metadata": {},
   "outputs": [
    {
     "data": {
      "text/plain": [
       "4"
      ]
     },
     "execution_count": 21,
     "metadata": {},
     "output_type": "execute_result"
    }
   ],
   "source": [
    "14 // 3"
   ]
  },
  {
   "cell_type": "code",
   "execution_count": 13,
   "id": "f09d20fb",
   "metadata": {},
   "outputs": [
    {
     "data": {
      "text/plain": [
       "3"
      ]
     },
     "execution_count": 13,
     "metadata": {},
     "output_type": "execute_result"
    }
   ],
   "source": [
    "15 % 4"
   ]
  },
  {
   "cell_type": "code",
   "execution_count": 14,
   "id": "dfd13c71",
   "metadata": {},
   "outputs": [
    {
     "data": {
      "text/plain": [
       "8"
      ]
     },
     "execution_count": 14,
     "metadata": {},
     "output_type": "execute_result"
    }
   ],
   "source": [
    "2 ** 3"
   ]
  },
  {
   "cell_type": "code",
   "execution_count": 16,
   "id": "549617d5",
   "metadata": {},
   "outputs": [],
   "source": [
    "x = 50\n",
    "y = 2"
   ]
  },
  {
   "cell_type": "code",
   "execution_count": 17,
   "id": "f98c8405",
   "metadata": {},
   "outputs": [
    {
     "name": "stdout",
     "output_type": "stream",
     "text": [
      "52\n",
      "48\n",
      "100\n",
      "25.0\n"
     ]
    }
   ],
   "source": [
    "print(x + y)\n",
    "print(x - y)\n",
    "print(x * y)\n",
    "print(x / y)"
   ]
  },
  {
   "cell_type": "code",
   "execution_count": 18,
   "id": "aca05231",
   "metadata": {},
   "outputs": [
    {
     "name": "stdout",
     "output_type": "stream",
     "text": [
      "2500\n",
      "25\n",
      "0\n"
     ]
    }
   ],
   "source": [
    "print(x ** y)\n",
    "print(x // y)\n",
    "print(x % y)"
   ]
  },
  {
   "cell_type": "code",
   "execution_count": null,
   "id": "84853790",
   "metadata": {},
   "outputs": [],
   "source": []
  },
  {
   "cell_type": "code",
   "execution_count": null,
   "id": "bbce26de",
   "metadata": {},
   "outputs": [],
   "source": [
    "Operadores Lógicos"
   ]
  },
  {
   "cell_type": "code",
   "execution_count": 6,
   "id": "2f953251",
   "metadata": {},
   "outputs": [
    {
     "data": {
      "text/plain": [
       "True"
      ]
     },
     "execution_count": 6,
     "metadata": {},
     "output_type": "execute_result"
    }
   ],
   "source": [
    "not False"
   ]
  },
  {
   "cell_type": "code",
   "execution_count": 7,
   "id": "84244835",
   "metadata": {},
   "outputs": [
    {
     "data": {
      "text/plain": [
       "False"
      ]
     },
     "execution_count": 7,
     "metadata": {},
     "output_type": "execute_result"
    }
   ],
   "source": [
    "False and True"
   ]
  },
  {
   "cell_type": "code",
   "execution_count": 8,
   "id": "e9a60032",
   "metadata": {},
   "outputs": [
    {
     "data": {
      "text/plain": [
       "True"
      ]
     },
     "execution_count": 8,
     "metadata": {},
     "output_type": "execute_result"
    }
   ],
   "source": [
    "False or True"
   ]
  },
  {
   "cell_type": "code",
   "execution_count": 26,
   "id": "c9a7deaf",
   "metadata": {},
   "outputs": [],
   "source": [
    "tem_cafe = True\n",
    "tem_pao = False"
   ]
  },
  {
   "cell_type": "code",
   "execution_count": 27,
   "id": "f2b6e8d9",
   "metadata": {},
   "outputs": [
    {
     "name": "stdout",
     "output_type": "stream",
     "text": [
      "False\n",
      "True\n",
      "False\n"
     ]
    }
   ],
   "source": [
    "print(not tem_cafe)\n",
    "print(tem_cafe or tem_pao)\n",
    "print(tem_cafe and tem_pao)"
   ]
  },
  {
   "cell_type": "code",
   "execution_count": null,
   "id": "d679b7e1",
   "metadata": {},
   "outputs": [],
   "source": []
  },
  {
   "cell_type": "code",
   "execution_count": 28,
   "id": "753ff5f7",
   "metadata": {},
   "outputs": [],
   "source": [
    "dolar = 5.3\n",
    "real = 6"
   ]
  },
  {
   "cell_type": "code",
   "execution_count": 29,
   "id": "c4ccb11d",
   "metadata": {},
   "outputs": [
    {
     "name": "stdout",
     "output_type": "stream",
     "text": [
      "False\n",
      "True\n",
      "False\n",
      "False\n",
      "True\n",
      "True\n"
     ]
    }
   ],
   "source": [
    "print(dolar > real)\n",
    "print(dolar < real)\n",
    "print(dolar == real)\n",
    "print(dolar >= real)\n",
    "print(dolar <= real)\n",
    "print(dolar != real)"
   ]
  },
  {
   "cell_type": "code",
   "execution_count": null,
   "id": "17745bfe",
   "metadata": {},
   "outputs": [],
   "source": []
  }
 ],
 "metadata": {
  "kernelspec": {
   "display_name": "Python 3 (ipykernel)",
   "language": "python",
   "name": "python3"
  },
  "language_info": {
   "codemirror_mode": {
    "name": "ipython",
    "version": 3
   },
   "file_extension": ".py",
   "mimetype": "text/x-python",
   "name": "python",
   "nbconvert_exporter": "python",
   "pygments_lexer": "ipython3",
   "version": "3.10.7"
  }
 },
 "nbformat": 4,
 "nbformat_minor": 5
}

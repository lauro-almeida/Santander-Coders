{
 "cells": [
  {
   "cell_type": "code",
   "execution_count": 1,
   "id": "42ad518b",
   "metadata": {},
   "outputs": [
    {
     "name": "stdout",
     "output_type": "stream",
     "text": [
      "0\n",
      "1\n",
      "2\n",
      "3\n",
      "4\n",
      "5\n",
      "6\n",
      "7\n",
      "8\n",
      "9\n",
      "10\n"
     ]
    }
   ],
   "source": [
    "contador = 0\n",
    "while contador <= 10:\n",
    "    print(contador)\n",
    "    contador += 1"
   ]
  },
  {
   "cell_type": "code",
   "execution_count": 3,
   "id": "8c48263c",
   "metadata": {},
   "outputs": [
    {
     "name": "stdout",
     "output_type": "stream",
     "text": [
      "1 item limpo\n",
      "2 items limpos\n",
      "3 items limpos\n",
      "4 items limpos\n",
      "5 items limpos\n",
      "6 items limpos\n",
      "7 items limpos\n",
      "8 items limpos\n",
      "9 items limpos\n",
      "10 items limpos\n",
      "Fim da repetição do bloco while\n"
     ]
    }
   ],
   "source": [
    "contador = 0\n",
    "while True:\n",
    "    if contador < 10:\n",
    "        contador += 1\n",
    "        if contador == 1:\n",
    "            print(contador, \"item limpo\")\n",
    "        else:\n",
    "            print(contador, \"items limpos\")\n",
    "    else:\n",
    "        break\n",
    "print('Fim da repetição do bloco while')"
   ]
  },
  {
   "cell_type": "code",
   "execution_count": 5,
   "id": "13326aa1",
   "metadata": {},
   "outputs": [
    {
     "name": "stdout",
     "output_type": "stream",
     "text": [
      "Digite sua senha: Xurume\n",
      "Senha inválida! Tente novamente: Lua\n",
      "Senha inválida! Tente novamente: LetsCode\n",
      "Senha correta! Bem-vindo.\n"
     ]
    }
   ],
   "source": [
    "senha = 'LetsCode'\n",
    "texto = input('Digite sua senha: ')\n",
    "contador_senha_invalida = 0\n",
    "\n",
    "while texto != senha:\n",
    "    contador_senha_invalida += 1\n",
    "    if contador_senha_invalida == 3:\n",
    "        print('Usuário bloqueado!')\n",
    "        break\n",
    "    else:\n",
    "        texto = input('Senha inválida! Tente novamente: ')\n",
    "        \n",
    "        if texto == senha:\n",
    "            print('Senha correta! Bem-vindo.')\n",
    "            contador_senha_invalida = 0\n",
    "            break\n",
    "    "
   ]
  },
  {
   "cell_type": "code",
   "execution_count": null,
   "id": "d7c30c5d",
   "metadata": {},
   "outputs": [
    {
     "name": "stdout",
     "output_type": "stream",
     "text": [
      "2 items limpos\n",
      "3 items limpos\n",
      "4 items limpos\n",
      "5 items limpos\n",
      "6 items limpos\n",
      "7 items limpos\n",
      "8 items limpos\n",
      "9 items limpos\n",
      "10 items limpos\n"
     ]
    }
   ],
   "source": [
    "contador = 0\n",
    "while True:\n",
    "    if contador < 10:\n",
    "        contador += 1\n",
    "        if contador == 1:\n",
    "          continue\n",
    "        print(contador, \"items limpos\")\n",
    "\n",
    "print('Fim da repetição do bloco while')"
   ]
  },
  {
   "cell_type": "code",
   "execution_count": null,
   "id": "4d2ec6a8",
   "metadata": {},
   "outputs": [],
   "source": []
  }
 ],
 "metadata": {
  "kernelspec": {
   "display_name": "Python 3.10.7 64-bit",
   "language": "python",
   "name": "python3"
  },
  "language_info": {
   "codemirror_mode": {
    "name": "ipython",
    "version": 3
   },
   "file_extension": ".py",
   "mimetype": "text/x-python",
   "name": "python",
   "nbconvert_exporter": "python",
   "pygments_lexer": "ipython3",
   "version": "3.10.7"
  },
  "vscode": {
   "interpreter": {
    "hash": "1db275465ede92eecaa73957f8465bbf10b4fb1c73db7ac7fd4bfeb74df0b069"
   }
  }
 },
 "nbformat": 4,
 "nbformat_minor": 5
}

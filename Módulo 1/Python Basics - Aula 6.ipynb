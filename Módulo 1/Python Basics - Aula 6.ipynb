{
 "cells": [
  {
   "cell_type": "code",
   "execution_count": 8,
   "id": "4e995949",
   "metadata": {},
   "outputs": [
    {
     "name": "stdout",
     "output_type": "stream",
     "text": [
      "Qual é o valor da corrida? 23\n",
      "Aguarde!\n"
     ]
    }
   ],
   "source": [
    "valor_passagem = 4.30\n",
    "\n",
    "valor_corrida = float(input('Qual é o valor da corrida? '))\n",
    "\n",
    "if valor_corrida <= valor_passagem * 5:\n",
    "    print('Vou de uber!')\n",
    "else:\n",
    "    if valor_corrida <= valor_passagem * 6:\n",
    "        print('Aguarde!')\n",
    "    else:\n",
    "        print('Vou de ônibus!')"
   ]
  },
  {
   "cell_type": "code",
   "execution_count": 11,
   "id": "0bf53794",
   "metadata": {},
   "outputs": [
    {
     "name": "stdout",
     "output_type": "stream",
     "text": [
      "Qual é o valor da corrida? 35\n",
      "Vou de ônibus!\n"
     ]
    }
   ],
   "source": [
    "valor_passagem = 4.30\n",
    "\n",
    "valor_corrida = float(input('Qual é o valor da corrida? '))\n",
    "\n",
    "if valor_corrida <= valor_passagem * 5:\n",
    "    print('Vou de uber!')\n",
    "elif valor_corrida <= valor_passagem * 6:\n",
    "    print('Aguarde!')\n",
    "else:\n",
    "    print('Vou de ônibus!')"
   ]
  },
  {
   "cell_type": "code",
   "execution_count": null,
   "id": "a522184b",
   "metadata": {},
   "outputs": [],
   "source": []
  }
 ],
 "metadata": {
  "kernelspec": {
   "display_name": "Python 3 (ipykernel)",
   "language": "python",
   "name": "python3"
  },
  "language_info": {
   "codemirror_mode": {
    "name": "ipython",
    "version": 3
   },
   "file_extension": ".py",
   "mimetype": "text/x-python",
   "name": "python",
   "nbconvert_exporter": "python",
   "pygments_lexer": "ipython3",
   "version": "3.10.7"
  }
 },
 "nbformat": 4,
 "nbformat_minor": 5
}

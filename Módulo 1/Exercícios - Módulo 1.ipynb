{
 "cells": [
  {
   "cell_type": "markdown",
   "id": "38f5c1f0",
   "metadata": {},
   "source": [
    "1. Faça um programa que peça um valor monetário e diminua-o em 15%. Seu programa deve imprimir a mensagem “O novo valor é [valor]”."
   ]
  },
  {
   "cell_type": "code",
   "execution_count": 5,
   "id": "75055d57",
   "metadata": {},
   "outputs": [
    {
     "name": "stdout",
     "output_type": "stream",
     "text": [
      "Informe a taxa que deseja ser decrescida do total: 50\n",
      "Informe o valor para ser decrescido em 50%: 100\n",
      "O novo valor é 50.0\n"
     ]
    }
   ],
   "source": [
    "taxa_decrescimo = float(input('Informe a taxa que deseja ser decrescida do total: '))\n",
    "taxa_porcentagem = taxa_decrescimo/100\n",
    "valor_monetario = float(input(f'Informe o valor para ser decrescido em {int(taxa_decrescimo)}%: '))\n",
    "valor_decrescido = valor_monetario * (1 - taxa_porcentagem)\n",
    "print('O novo valor é', valor_decrescido)"
   ]
  },
  {
   "cell_type": "markdown",
   "id": "dfcac464",
   "metadata": {},
   "source": [
    "2. Faça um programa que leia a validade das informações:\n",
    "\n",
    "a. Idade: entre 0 e 150;\n",
    "b. Salário: maior que 0;\n",
    "c. Sexo: M, F ou Outro;\n",
    "\n",
    "O programa deve imprimir uma mensagem de erro para cada informação\n",
    "inválida."
   ]
  },
  {
   "cell_type": "code",
   "execution_count": 12,
   "id": "b733b12b",
   "metadata": {},
   "outputs": [
    {
     "name": "stdout",
     "output_type": "stream",
     "text": [
      "Informe sua idade: 31\n",
      "Informe seu salário: 2500\n",
      "Informe seu sexo (M, F ou Outro): F\n",
      "Você tem 31 anos, ganha R$2500.0 e é do sexo Feminino\n"
     ]
    }
   ],
   "source": [
    "idade = int(input('Informe sua idade: '))\n",
    "while True:\n",
    "    if idade >= 0 and idade <= 150:\n",
    "        break\n",
    "    else:\n",
    "        idade = int(input('Idade inválida! Informe um valor entre 0 e 150: '))\n",
    "        \n",
    "salario = float(input('Informe seu salário: '))\n",
    "while True:\n",
    "    if salario < 0:\n",
    "        salario = float(input('Salário inválido! Informe um valor maior ou igual a 0: '))\n",
    "    else:\n",
    "        break\n",
    "        \n",
    "sexo = input('Informe seu sexo (M, F ou Outro): ')\n",
    "while True:\n",
    "    if sexo != 'M' and sexo != 'F' and sexo != 'Outro':\n",
    "        sexo = input('Sexo inválido! Escola seu sexo entre as opções \"M\", \"F\" ou \"Outro\": ')\n",
    "    else:\n",
    "        break\n",
    "\n",
    "sexo_print = 'masculino' if sexo == 'M' else 'feminino' if sexo == 'F' else 'outro'\n",
    "\n",
    "print(f'Você tem {idade} anos, ganha R${salario} e é do sexo {sexo_print}')"
   ]
  },
  {
   "cell_type": "markdown",
   "id": "a394bfbb",
   "metadata": {},
   "source": [
    "3. Vamos fazer um programa para verificar quem é o assassino de um crime. Para descobrir o assassino, a polícia faz um pequeno questionário com 5 perguntas onde a resposta só pode ser sim ou não:\n",
    "\n",
    "a. Mora perto da vítima?\n",
    "b. Já trabalhou com a vítima?\n",
    "c. Telefonou para a vítima?\n",
    "d. Esteve no local do crime?\n",
    "e. Devia para a vítima?\n",
    "\n",
    "Cada resposta sim dá um ponto para o suspeito. A polícia considera que os suspeitos com 5 pontos são os assassinos, com 4 a 3 pontos são cúmplices e 2 pontos são apenas suspeitos, necessitando outras investigações. Valores iguais ou abaixo de 1 são liberados."
   ]
  },
  {
   "cell_type": "code",
   "execution_count": 22,
   "id": "d75ffee9",
   "metadata": {},
   "outputs": [
    {
     "name": "stdout",
     "output_type": "stream",
     "text": [
      "Nome do suspeito: Lauro Matador de Porco\n",
      "Responda com sim ou não: Mora perto da vítima?sim\n",
      "Responda com sim ou não: Já trabalhou com a vítima?não\n",
      "Responda com sim ou não: Telefonou para a vítima?sim\n",
      "Responda com sim ou não: Esteve no local do crime?sim\n",
      "Responda com sim ou não: Devia para a vítima?sim\n",
      "O cidadão com o nome Lauro Matador de Porco foi considerado cúmplice em nossa investigação. 4\n"
     ]
    }
   ],
   "source": [
    "perguntas = (\n",
    "    'Mora perto da vítima?', \n",
    "    'Já trabalhou com a vítima?', \n",
    "    'Telefonou para a vítima?', \n",
    "    'Esteve no local do crime?', \n",
    "    'Devia para a vítima?'\n",
    ")\n",
    "\n",
    "nome_suspeito = input('Nome do suspeito: ')\n",
    "pontos_suspeito = 0\n",
    "\n",
    "for pergunta in perguntas:\n",
    "    resposta = input(f'Responda com sim ou não: {pergunta}')\n",
    "    while True:\n",
    "        if resposta.lower() == 'sim':\n",
    "            pontos_suspeito += 1\n",
    "            break\n",
    "        elif resposta.lower() != 'não':\n",
    "            resposta = input(f'Responde APENAS com sim ou não: {pergunta}')\n",
    "        else:\n",
    "            break\n",
    "        \n",
    "status_suspeito = 'assassino' if pontos_suspeito == 5 else 'cúmplice' if (pontos_suspeito == 4 or pontos_suspeito == 3) else 'suspeito' if pontos_suspeito == 2 else 'descartado'\n",
    "\n",
    "print(f'O cidadão com o nome {nome_suspeito} foi considerado {status_suspeito} em nossa investigação.', pontos_suspeito)"
   ]
  },
  {
   "cell_type": "markdown",
   "id": "0355ca20",
   "metadata": {},
   "source": [
    "4. Faça um programa que imprima a tabuada do 9 (de 9x1 a 9x10) usando loops."
   ]
  },
  {
   "cell_type": "code",
   "execution_count": 25,
   "id": "49156667",
   "metadata": {},
   "outputs": [
    {
     "name": "stdout",
     "output_type": "stream",
     "text": [
      "Informe o número que deseja saber a tabuada: 13\n",
      "1 x 13 = 13\n",
      "2 x 13 = 26\n",
      "3 x 13 = 39\n",
      "4 x 13 = 52\n",
      "5 x 13 = 65\n",
      "6 x 13 = 78\n",
      "7 x 13 = 91\n",
      "8 x 13 = 104\n",
      "9 x 13 = 117\n",
      "10 x 13 = 130\n"
     ]
    }
   ],
   "source": [
    "numero = int(input('Informe o número que deseja saber a tabuada: '))\n",
    "contador = 1\n",
    "\n",
    "while contador <= 10:\n",
    "    print(f'{contador} x {numero} = {contador*numero}')\n",
    "    contador += 1\n"
   ]
  },
  {
   "cell_type": "code",
   "execution_count": null,
   "id": "f14e155a",
   "metadata": {},
   "outputs": [],
   "source": []
  }
 ],
 "metadata": {
  "kernelspec": {
   "display_name": "Python 3 (ipykernel)",
   "language": "python",
   "name": "python3"
  },
  "language_info": {
   "codemirror_mode": {
    "name": "ipython",
    "version": 3
   },
   "file_extension": ".py",
   "mimetype": "text/x-python",
   "name": "python",
   "nbconvert_exporter": "python",
   "pygments_lexer": "ipython3",
   "version": "3.10.7"
  }
 },
 "nbformat": 4,
 "nbformat_minor": 5
}

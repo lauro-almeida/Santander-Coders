{
 "cells": [
  {
   "cell_type": "code",
   "execution_count": 1,
   "id": "a4729f6c",
   "metadata": {},
   "outputs": [
    {
     "name": "stdout",
     "output_type": "stream",
     "text": [
      "Informe sua idade: 31\n"
     ]
    }
   ],
   "source": [
    "idade = input('Informe sua idade: ')"
   ]
  },
  {
   "cell_type": "code",
   "execution_count": 2,
   "id": "12dd68f4",
   "metadata": {},
   "outputs": [
    {
     "data": {
      "text/plain": [
       "'31'"
      ]
     },
     "execution_count": 2,
     "metadata": {},
     "output_type": "execute_result"
    }
   ],
   "source": [
    "idade"
   ]
  },
  {
   "cell_type": "code",
   "execution_count": 3,
   "id": "bb5e01b2",
   "metadata": {},
   "outputs": [
    {
     "name": "stdout",
     "output_type": "stream",
     "text": [
      "31 <class 'str'>\n"
     ]
    }
   ],
   "source": [
    "print(idade, type(idade))"
   ]
  },
  {
   "cell_type": "code",
   "execution_count": 4,
   "id": "0f686f69",
   "metadata": {},
   "outputs": [
    {
     "name": "stdout",
     "output_type": "stream",
     "text": [
      "Informe o ano de nascimento: 1991\n",
      "1991 <class 'int'>\n"
     ]
    }
   ],
   "source": [
    "ano = int(input('Informe o ano de nascimento: '))\n",
    "print(ano, type(ano))"
   ]
  },
  {
   "cell_type": "code",
   "execution_count": 5,
   "id": "e580d5b6",
   "metadata": {},
   "outputs": [
    {
     "name": "stdout",
     "output_type": "stream",
     "text": [
      "1991 <class 'str'>\n"
     ]
    }
   ],
   "source": [
    "ano = str(ano)\n",
    "print(ano, type(ano))"
   ]
  },
  {
   "cell_type": "code",
   "execution_count": 6,
   "id": "16f706ae",
   "metadata": {},
   "outputs": [
    {
     "ename": "ValueError",
     "evalue": "invalid literal for int() with base 10: '123abc'",
     "output_type": "error",
     "traceback": [
      "\u001b[1;31m---------------------------------------------------------------------------\u001b[0m",
      "\u001b[1;31mValueError\u001b[0m                                Traceback (most recent call last)",
      "Cell \u001b[1;32mIn [6], line 1\u001b[0m\n\u001b[1;32m----> 1\u001b[0m \u001b[38;5;28;43mint\u001b[39;49m\u001b[43m(\u001b[49m\u001b[38;5;124;43m'\u001b[39;49m\u001b[38;5;124;43m123abc\u001b[39;49m\u001b[38;5;124;43m'\u001b[39;49m\u001b[43m)\u001b[49m\n",
      "\u001b[1;31mValueError\u001b[0m: invalid literal for int() with base 10: '123abc'"
     ]
    }
   ],
   "source": [
    "int('123abc')"
   ]
  },
  {
   "cell_type": "code",
   "execution_count": 7,
   "id": "8d82e2a3",
   "metadata": {},
   "outputs": [
    {
     "name": "stdout",
     "output_type": "stream",
     "text": [
      "123.23\n",
      "123.23\n",
      "False\n",
      "True\n",
      "False\n",
      "True\n"
     ]
    }
   ],
   "source": [
    "print(float('123.23'))\n",
    "print(str(123.23))\n",
    "print(bool(''))\n",
    "print(bool('abc'))\n",
    "print(bool(0))\n",
    "print(bool(-2))"
   ]
  },
  {
   "cell_type": "raw",
   "id": "bc4e07ff",
   "metadata": {},
   "source": [
    "salario_mensal = input('Digite o valor do seu salário mens)"
   ]
  },
  {
   "cell_type": "code",
   "execution_count": 10,
   "id": "9560dfac",
   "metadata": {},
   "outputs": [
    {
     "name": "stdout",
     "output_type": "stream",
     "text": [
      "Digite o valor do seu salário mensal: 2500\n",
      "Digite o valor do seu gasto mensal em média: 1800\n",
      "O montante que você pode economizar ao fim do ano é de R$ 8400.0\n"
     ]
    }
   ],
   "source": [
    "salario_mensal = float(input('Digite o valor do seu salário mensal: '))\n",
    "\n",
    "gasto_mensal = float(input('Digite o valor do seu gasto mensal em média: '))\n",
    "\n",
    "salario_total = salario_mensal *12\n",
    "gasto_total = gasto_mensal * 12\n",
    "\n",
    "montante_economizado = salario_total - gasto_total\n",
    "print('O montante que você pode economizar ao fim do ano é de R$', montante_economizado)"
   ]
  },
  {
   "cell_type": "code",
   "execution_count": null,
   "id": "58f47fc6",
   "metadata": {},
   "outputs": [],
   "source": []
  }
 ],
 "metadata": {
  "kernelspec": {
   "display_name": "Python 3 (ipykernel)",
   "language": "python",
   "name": "python3"
  },
  "language_info": {
   "codemirror_mode": {
    "name": "ipython",
    "version": 3
   },
   "file_extension": ".py",
   "mimetype": "text/x-python",
   "name": "python",
   "nbconvert_exporter": "python",
   "pygments_lexer": "ipython3",
   "version": "3.10.7"
  }
 },
 "nbformat": 4,
 "nbformat_minor": 5
}

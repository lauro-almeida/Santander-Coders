{
 "cells": [
  {
   "cell_type": "markdown",
   "id": "7351c535",
   "metadata": {},
   "source": [
    "# Funções II"
   ]
  },
  {
   "cell_type": "code",
   "execution_count": 1,
   "id": "6966b0c7",
   "metadata": {},
   "outputs": [],
   "source": [
    "def calcula_media(n1, n2, n3):\n",
    "    media = (n1 + n2 + n3) / 3\n",
    "    return media"
   ]
  },
  {
   "cell_type": "code",
   "execution_count": 2,
   "id": "0d2e1b3d",
   "metadata": {},
   "outputs": [],
   "source": [
    "def calcula_media2(*args):\n",
    "    print(args, type(args))"
   ]
  },
  {
   "cell_type": "code",
   "execution_count": 3,
   "id": "4b9f98e9",
   "metadata": {},
   "outputs": [
    {
     "name": "stdout",
     "output_type": "stream",
     "text": [
      "(10, 9, 8) <class 'tuple'>\n"
     ]
    }
   ],
   "source": [
    "calcula_media2(10, 9, 8)"
   ]
  },
  {
   "cell_type": "markdown",
   "id": "1b9e6d0d",
   "metadata": {},
   "source": [
    "Note que esse nome (args) é apenas uma convenção, nós poderíamos definir qualquer nome para esse parâmetro que estamos criando.\n",
    "Depois, veja que os parâmetros (ou argumentos) que passamos para a função são entendidos como uma tupla de itens. Agora basta trabalharmos com os mesmos como tal:"
   ]
  },
  {
   "cell_type": "code",
   "execution_count": 15,
   "id": "390bd82f",
   "metadata": {},
   "outputs": [],
   "source": [
    "def calcula_media3(*args):\n",
    "    media = sum(args) / len(args)\n",
    "    return media"
   ]
  },
  {
   "cell_type": "code",
   "execution_count": 16,
   "id": "f2078f7c",
   "metadata": {},
   "outputs": [
    {
     "name": "stdout",
     "output_type": "stream",
     "text": [
      "7.5\n"
     ]
    }
   ],
   "source": [
    "resultado_tupla = calcula_media3(5, 10, 5, 10)\n",
    "print(resultado_tupla)"
   ]
  },
  {
   "cell_type": "code",
   "execution_count": null,
   "id": "f6e5ee9a",
   "metadata": {},
   "outputs": [],
   "source": []
  },
  {
   "cell_type": "markdown",
   "id": "358a496d",
   "metadata": {},
   "source": [
    "É importante salientar que se passarmos outro parâmetro depois de args, como por exemplo uma margem que queremos calcular, nós devemos informar explicitamente, pois se não, qualquer valor passado como parâmetro, será interpretado como args:"
   ]
  },
  {
   "cell_type": "code",
   "execution_count": 17,
   "id": "a0343973",
   "metadata": {},
   "outputs": [],
   "source": [
    "def calcula_media3(*args, margem):\n",
    "    media = sum(args) / len(args)\n",
    "    return media + margem"
   ]
  },
  {
   "cell_type": "code",
   "execution_count": 18,
   "id": "88dbd413",
   "metadata": {},
   "outputs": [
    {
     "ename": "TypeError",
     "evalue": "calcula_media3() missing 1 required keyword-only argument: 'margem'",
     "output_type": "error",
     "traceback": [
      "\u001b[1;31m---------------------------------------------------------------------------\u001b[0m",
      "\u001b[1;31mTypeError\u001b[0m                                 Traceback (most recent call last)",
      "Cell \u001b[1;32mIn [18], line 1\u001b[0m\n\u001b[1;32m----> 1\u001b[0m resultado_tupla_margem_errado \u001b[38;5;241m=\u001b[39m \u001b[43mcalcula_media3\u001b[49m\u001b[43m(\u001b[49m\u001b[38;5;241;43m5\u001b[39;49m\u001b[43m,\u001b[49m\u001b[43m \u001b[49m\u001b[38;5;241;43m7\u001b[39;49m\u001b[43m,\u001b[49m\u001b[43m \u001b[49m\u001b[38;5;241;43m0.3\u001b[39;49m\u001b[43m)\u001b[49m\n\u001b[0;32m      2\u001b[0m \u001b[38;5;28mprint\u001b[39m(resultado_tupla_margem_errado)\n",
      "\u001b[1;31mTypeError\u001b[0m: calcula_media3() missing 1 required keyword-only argument: 'margem'"
     ]
    }
   ],
   "source": [
    "resultado_tupla_margem_errado = calcula_media3(5, 7, 0.3)\n",
    "print(resultado_tupla_margem_errado)"
   ]
  },
  {
   "cell_type": "code",
   "execution_count": 19,
   "id": "0f6fed47",
   "metadata": {},
   "outputs": [
    {
     "name": "stdout",
     "output_type": "stream",
     "text": [
      "6.3\n"
     ]
    }
   ],
   "source": [
    "resultado_tupla_margem_certo = calcula_media3(5, 7, margem=0.3)\n",
    "print(resultado_tupla_margem_certo)"
   ]
  },
  {
   "cell_type": "code",
   "execution_count": null,
   "id": "7eca4a01",
   "metadata": {},
   "outputs": [],
   "source": []
  }
 ],
 "metadata": {
  "kernelspec": {
   "display_name": "Python 3 (ipykernel)",
   "language": "python",
   "name": "python3"
  },
  "language_info": {
   "codemirror_mode": {
    "name": "ipython",
    "version": 3
   },
   "file_extension": ".py",
   "mimetype": "text/x-python",
   "name": "python",
   "nbconvert_exporter": "python",
   "pygments_lexer": "ipython3",
   "version": "3.10.7"
  }
 },
 "nbformat": 4,
 "nbformat_minor": 5
}

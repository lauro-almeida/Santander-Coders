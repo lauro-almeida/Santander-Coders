{
 "cells": [
  {
   "cell_type": "markdown",
   "id": "ed3b6619",
   "metadata": {},
   "source": [
    "# 1. Faça um programa que olhe todos os itens de uma lista e diga quantos deles são pares."
   ]
  },
  {
   "cell_type": "markdown",
   "id": "186b390d",
   "metadata": {},
   "source": [
    "# 2. Faça um programa que peça para o usuário digitar uma palavra e imprima cada letra em uma linha."
   ]
  },
  {
   "cell_type": "markdown",
   "id": "80bb9245",
   "metadata": {},
   "source": [
    "# 3. Faça uma função que recebe duas listas e retorna a soma item a item dessas listas.\n",
    "\n",
    "# Exemplo: Se a função receber as listas [1,4,3] e [3,5,1], então a função deve retornar [1+3, 4+5, 3+1] = [4, 9, 4]."
   ]
  },
  {
   "cell_type": "markdown",
   "id": "b9c4aade",
   "metadata": {},
   "source": [
    "# 4. Crie um dicionário cujas chaves são os meses do ano e os valores são a duração (em dias) de cada mês."
   ]
  },
  {
   "cell_type": "markdown",
   "id": "2f49788e",
   "metadata": {},
   "source": [
    "# 5. Imprima as chaves seguidas dos seus valores para dicionário criado no exercício anterior.\n",
    "\n",
    "# Exemplo:\n",
    "# Janeiro - 31\n",
    "# Fevereiro - 28\n",
    "# Março - 31\n",
    "# Etc..."
   ]
  },
  {
   "cell_type": "code",
   "execution_count": null,
   "id": "6756f0fc",
   "metadata": {},
   "outputs": [],
   "source": []
  }
 ],
 "metadata": {
  "kernelspec": {
   "display_name": "Python 3 (ipykernel)",
   "language": "python",
   "name": "python3"
  },
  "language_info": {
   "codemirror_mode": {
    "name": "ipython",
    "version": 3
   },
   "file_extension": ".py",
   "mimetype": "text/x-python",
   "name": "python",
   "nbconvert_exporter": "python",
   "pygments_lexer": "ipython3",
   "version": "3.10.7"
  }
 },
 "nbformat": 4,
 "nbformat_minor": 5
}

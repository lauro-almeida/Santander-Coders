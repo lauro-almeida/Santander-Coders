{
 "cells": [
  {
   "cell_type": "markdown",
   "id": "96c44a43",
   "metadata": {},
   "source": [
    "# Estrutura de Repetição: For"
   ]
  },
  {
   "cell_type": "code",
   "execution_count": 3,
   "id": "b7de33ad",
   "metadata": {},
   "outputs": [
    {
     "name": "stdout",
     "output_type": "stream",
     "text": [
      "São Paulo\n",
      "Londres\n",
      "Tóquio\n",
      "Paris\n"
     ]
    }
   ],
   "source": [
    "nomes_cidades = ['São Paulo', 'Londres', 'Tóquio', 'Paris']\n",
    "for nome in nomes_cidades:\n",
    "    print(nome)"
   ]
  },
  {
   "cell_type": "markdown",
   "id": "46f285ce",
   "metadata": {},
   "source": [
    "### Comparando o exemplo do For com um While"
   ]
  },
  {
   "cell_type": "code",
   "execution_count": 5,
   "id": "0a27c42a",
   "metadata": {},
   "outputs": [
    {
     "name": "stdout",
     "output_type": "stream",
     "text": [
      "São Paulo\n",
      "Londres\n",
      "Tóquio\n",
      "Paris\n"
     ]
    }
   ],
   "source": [
    "nomes_cidades = ['São Paulo', 'Londres', 'Tóquio', 'Paris']\n",
    "contador = 0\n",
    "while contador < len(nomes_cidades):\n",
    "    print(nomes_cidades[contador])\n",
    "    contador += 1"
   ]
  },
  {
   "cell_type": "markdown",
   "id": "59bb554a",
   "metadata": {},
   "source": [
    "## Iterando Tuplas"
   ]
  },
  {
   "cell_type": "code",
   "execution_count": 6,
   "id": "334fe308",
   "metadata": {},
   "outputs": [
    {
     "name": "stdout",
     "output_type": "stream",
     "text": [
      "São Paulo\n",
      "Londres\n",
      "Tóquio\n",
      "Paris\n"
     ]
    }
   ],
   "source": [
    "nomes_cidades = 'São Paulo', 'Londres', 'Tóquio', 'Paris'\n",
    "for nome in nomes_cidades:\n",
    "    print(nome)"
   ]
  },
  {
   "cell_type": "markdown",
   "id": "35c0155a",
   "metadata": {},
   "source": [
    "## Irando em Dicionários"
   ]
  },
  {
   "cell_type": "code",
   "execution_count": 14,
   "id": "9b5c6b02",
   "metadata": {},
   "outputs": [
    {
     "name": "stdout",
     "output_type": "stream",
     "text": [
      "nome: São Paulo\n",
      "estado: São Paulo\n",
      "populacao_milhoes: 12.2\n"
     ]
    }
   ],
   "source": [
    "cidade = {\n",
    "    'nome': 'São Paulo',\n",
    "    'estado': 'São Paulo',\n",
    "    'populacao_milhoes': 12.2,\n",
    "}\n",
    "for prop in cidade:\n",
    "    print(f'{prop}: {cidade[prop]}')"
   ]
  },
  {
   "cell_type": "markdown",
   "id": "f78f5ae7",
   "metadata": {},
   "source": [
    "## Atribuindo valores pela variável do for"
   ]
  },
  {
   "cell_type": "code",
   "execution_count": 16,
   "id": "97125866",
   "metadata": {},
   "outputs": [
    {
     "name": "stdout",
     "output_type": "stream",
     "text": [
      "['São Paulo', 'Londres', 'Tóquio', 'Paris']\n"
     ]
    }
   ],
   "source": [
    "nomes_cidades = ['São Paulo', 'Londres', 'Tóquio', 'Paris']\n",
    "for nome in nomes_cidades:\n",
    "    nome = 'Rio de Janeiro'\n",
    "print(nomes_cidades)"
   ]
  },
  {
   "cell_type": "markdown",
   "id": "690b48b4",
   "metadata": {},
   "source": [
    "Perceba que apesar de parecer que estamos atribuindo o valor 'Rio de Janeiro' para cada um dos itens, uma vez que a chave nome se torna representativa de cada um deles, isso não acontece. Esse comportamento é notado pois essa chave temporária 'nome' é uma cópia da verdadeira. E por isso, atribuir valor a ela não altera a lista original."
   ]
  },
  {
   "cell_type": "markdown",
   "id": "b2d9b8b2",
   "metadata": {},
   "source": [
    "Uma forma de resolver isso é utilizando a posição do item para alterá-lo. Porém, teremos que usar uma outra função do Python, conhecida como range()."
   ]
  },
  {
   "cell_type": "markdown",
   "id": "11ec8ec0",
   "metadata": {},
   "source": [
    "## Função range()"
   ]
  },
  {
   "cell_type": "code",
   "execution_count": 19,
   "id": "a34c26ea",
   "metadata": {},
   "outputs": [
    {
     "name": "stdout",
     "output_type": "stream",
     "text": [
      "0\n",
      "1\n",
      "2\n",
      "3\n"
     ]
    }
   ],
   "source": [
    "nomes_cidades = ['São Paulo', 'Londres', 'Tóquio', 'Paris']\n",
    "for nome in range(len(nomes_cidades)):\n",
    "    print(nome)"
   ]
  },
  {
   "cell_type": "code",
   "execution_count": 21,
   "id": "885433e8",
   "metadata": {},
   "outputs": [
    {
     "name": "stdout",
     "output_type": "stream",
     "text": [
      "['Rio de Janeiro', 'Rio de Janeiro', 'Rio de Janeiro', 'Rio de Janeiro']\n"
     ]
    }
   ],
   "source": [
    "nomes_cidades = ['São Paulo', 'Londres', 'Tóquio', 'Paris']\n",
    "for posicao in range(len(nomes_cidades)):\n",
    "    nomes_cidades[posicao] = 'Rio de Janeiro'\n",
    "print(nomes_cidades)"
   ]
  },
  {
   "cell_type": "markdown",
   "id": "be19669e",
   "metadata": {},
   "source": [
    "### Outras maneiras de usar o range()\n",
    "Note que no exemplo estamo transformando o retorno da função range em um alista, para podermos visualziar melhor."
   ]
  },
  {
   "cell_type": "code",
   "execution_count": 23,
   "id": "8f6536ca",
   "metadata": {},
   "outputs": [
    {
     "name": "stdout",
     "output_type": "stream",
     "text": [
      "[0, 1, 2, 3, 4, 5, 6, 7, 8, 9]\n",
      "[2, 3, 4, 5, 6, 7, 8, 9]\n",
      "[2, 4, 6, 8]\n"
     ]
    }
   ],
   "source": [
    "print(list(range(10))) # retorna o valor de 0 até o especificado na função - 1.\n",
    "print(list(range(2, 10))) # retorna do valor especificado de início até o valor especificado de fim - 1.\n",
    "print(list(range(2, 10, 2))) # retorna do valor especificado de início até o valor especificado de fim - 1, pula de tantos em \n",
    "# tantos."
   ]
  },
  {
   "cell_type": "code",
   "execution_count": null,
   "id": "2e26d7d1",
   "metadata": {},
   "outputs": [],
   "source": []
  }
 ],
 "metadata": {
  "kernelspec": {
   "display_name": "Python 3 (ipykernel)",
   "language": "python",
   "name": "python3"
  },
  "language_info": {
   "codemirror_mode": {
    "name": "ipython",
    "version": 3
   },
   "file_extension": ".py",
   "mimetype": "text/x-python",
   "name": "python",
   "nbconvert_exporter": "python",
   "pygments_lexer": "ipython3",
   "version": "3.10.7"
  }
 },
 "nbformat": 4,
 "nbformat_minor": 5
}

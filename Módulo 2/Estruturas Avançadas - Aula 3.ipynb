{
 "cells": [
  {
   "cell_type": "code",
   "execution_count": 2,
   "id": "5d09fb10",
   "metadata": {},
   "outputs": [
    {
     "name": "stdout",
     "output_type": "stream",
     "text": [
      "Olá, Lauro\n"
     ]
    }
   ],
   "source": [
    "cumprimento = 'Olá, '\n",
    "nome = 'Lauro'\n",
    "print(cumprimento + nome)"
   ]
  },
  {
   "cell_type": "code",
   "execution_count": 4,
   "id": "669164d5",
   "metadata": {
    "scrolled": false
   },
   "outputs": [
    {
     "name": "stdout",
     "output_type": "stream",
     "text": [
      "LauroLauroLauroLauroLauro\n"
     ]
    }
   ],
   "source": [
    "print(nome * 5)"
   ]
  },
  {
   "cell_type": "code",
   "execution_count": 15,
   "id": "4f0cc7e4",
   "metadata": {},
   "outputs": [
    {
     "name": "stdout",
     "output_type": "stream",
     "text": [
      "Lauro tem 31 anos e 1 filho.\n"
     ]
    }
   ],
   "source": [
    "nome = 'Lauro'\n",
    "idade = 31\n",
    "n_filhos = 1\n",
    "print(nome + ' tem ' + str(idade) + ' anos e ' + str(n_filhos) + ' filho.')"
   ]
  },
  {
   "cell_type": "markdown",
   "id": "f3ef6ce2",
   "metadata": {},
   "source": [
    "Utilizando o método format para strings"
   ]
  },
  {
   "cell_type": "code",
   "execution_count": 16,
   "id": "0c842655",
   "metadata": {},
   "outputs": [
    {
     "name": "stdout",
     "output_type": "stream",
     "text": [
      "Lauro tem 31 anos e 1 filhos\n"
     ]
    }
   ],
   "source": [
    "print('{} tem {} anos e {} filhos'.format(nome, idade, n_filhos))"
   ]
  },
  {
   "cell_type": "code",
   "execution_count": 18,
   "id": "2c393b0e",
   "metadata": {},
   "outputs": [
    {
     "name": "stdout",
     "output_type": "stream",
     "text": [
      "O preço da gasolina hoje subiu e está em R$ 3.48\n"
     ]
    }
   ],
   "source": [
    "preco_gasolina = 3.476\n",
    "print('O preço da gasolina hoje subiu e está em R$ {:.2f}'.format(preco_gasolina))"
   ]
  },
  {
   "cell_type": "markdown",
   "id": "c9d72b07",
   "metadata": {},
   "source": [
    "Utilizando f string de forma abreviada"
   ]
  },
  {
   "cell_type": "code",
   "execution_count": 13,
   "id": "af4dc43c",
   "metadata": {},
   "outputs": [
    {
     "name": "stdout",
     "output_type": "stream",
     "text": [
      "Lauro tem 31 anos e 0 filho\n"
     ]
    }
   ],
   "source": [
    "nome = 'Lauro'\n",
    "idade = 31\n",
    "n_filhos = 0\n",
    "print(f'{nome} tem {idade} anos e {n_filhos} filho{\"s\" if (n_filhos > 1) else \"\"}')"
   ]
  },
  {
   "cell_type": "code",
   "execution_count": 19,
   "id": "310cc961",
   "metadata": {},
   "outputs": [
    {
     "name": "stdout",
     "output_type": "stream",
     "text": [
      "O preço da gasolina hoje subiu e está em R$ 3.48\n"
     ]
    }
   ],
   "source": [
    "preco_gasolina = 3.476\n",
    "print(f'O preço da gasolina hoje subiu e está em R$ {preco_gasolina:.2f}')"
   ]
  }
 ],
 "metadata": {
  "kernelspec": {
   "display_name": "Python 3 (ipykernel)",
   "language": "python",
   "name": "python3"
  },
  "language_info": {
   "codemirror_mode": {
    "name": "ipython",
    "version": 3
   },
   "file_extension": ".py",
   "mimetype": "text/x-python",
   "name": "python",
   "nbconvert_exporter": "python",
   "pygments_lexer": "ipython3",
   "version": "3.10.7"
  }
 },
 "nbformat": 4,
 "nbformat_minor": 5
}

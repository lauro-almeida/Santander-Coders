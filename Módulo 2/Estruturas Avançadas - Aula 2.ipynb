{
 "cells": [
  {
   "cell_type": "code",
   "execution_count": 1,
   "id": "94ad81f1",
   "metadata": {},
   "outputs": [
    {
     "name": "stdout",
     "output_type": "stream",
     "text": [
      "Google\n"
     ]
    }
   ],
   "source": [
    "empresa = 'Google'\n",
    "print(empresa)"
   ]
  },
  {
   "cell_type": "code",
   "execution_count": 2,
   "id": "57a10582",
   "metadata": {},
   "outputs": [
    {
     "name": "stdout",
     "output_type": "stream",
     "text": [
      "Google\n"
     ]
    }
   ],
   "source": [
    "empresa = \"Google\"\n",
    "print(empresa)"
   ]
  },
  {
   "cell_type": "code",
   "execution_count": 3,
   "id": "46a02c77",
   "metadata": {},
   "outputs": [
    {
     "ename": "SyntaxError",
     "evalue": "unterminated string literal (detected at line 1) (2163815922.py, line 1)",
     "output_type": "error",
     "traceback": [
      "\u001b[1;36m  Cell \u001b[1;32mIn [3], line 1\u001b[1;36m\u001b[0m\n\u001b[1;33m    empresa = 'Let's Code'\u001b[0m\n\u001b[1;37m                         ^\u001b[0m\n\u001b[1;31mSyntaxError\u001b[0m\u001b[1;31m:\u001b[0m unterminated string literal (detected at line 1)\n"
     ]
    }
   ],
   "source": [
    "empresa = 'Let's Code'"
   ]
  },
  {
   "cell_type": "code",
   "execution_count": 4,
   "id": "6ce4f770",
   "metadata": {},
   "outputs": [
    {
     "name": "stdout",
     "output_type": "stream",
     "text": [
      "Let's Code\n"
     ]
    }
   ],
   "source": [
    "empresa = \"Let's Code\"\n",
    "print(empresa)"
   ]
  },
  {
   "cell_type": "code",
   "execution_count": 5,
   "id": "fe1ea92a",
   "metadata": {},
   "outputs": [
    {
     "ename": "SyntaxError",
     "evalue": "invalid syntax (3564599003.py, line 1)",
     "output_type": "error",
     "traceback": [
      "\u001b[1;36m  Cell \u001b[1;32mIn [5], line 1\u001b[1;36m\u001b[0m\n\u001b[1;33m    frase = \"O professor Pietro da Let's Code disse: \"Hoje a pizza é por minha conta\"\"\u001b[0m\n\u001b[1;37m                                                      ^\u001b[0m\n\u001b[1;31mSyntaxError\u001b[0m\u001b[1;31m:\u001b[0m invalid syntax\n"
     ]
    }
   ],
   "source": [
    "frase = \"O professor Pietro da Let's Code disse: \"Hoje a pizza é por minha conta\"\""
   ]
  },
  {
   "cell_type": "markdown",
   "id": "3f111067",
   "metadata": {},
   "source": [
    "Usando o caracter de escape para usar as aspas que precisamos dentro da string:"
   ]
  },
  {
   "cell_type": "code",
   "execution_count": 7,
   "id": "3284cf54",
   "metadata": {},
   "outputs": [
    {
     "name": "stdout",
     "output_type": "stream",
     "text": [
      "O professor Pietro da Let's Code disse: \"Hoje a pizza é por minha conta\".\n"
     ]
    }
   ],
   "source": [
    "frase = \"O professor Pietro da Let's Code disse: \\\"Hoje a pizza é por minha conta\\\".\"\n",
    "print(frase)"
   ]
  },
  {
   "cell_type": "markdown",
   "id": "23894260",
   "metadata": {},
   "source": [
    "O caracter escape é utilizado para fazer o trabalho de indicação do uso das aspas nas strings, para fazer quebra de linha, para fazer tabulação ou então para o retorno do texto. "
   ]
  },
  {
   "cell_type": "markdown",
   "id": "8b011b15",
   "metadata": {},
   "source": [
    "Acessar elementos dentro da string:"
   ]
  },
  {
   "cell_type": "code",
   "execution_count": 8,
   "id": "82c958a4",
   "metadata": {},
   "outputs": [
    {
     "name": "stdout",
     "output_type": "stream",
     "text": [
      "G\n"
     ]
    }
   ],
   "source": [
    "empresa = 'Google'\n",
    "print(empresa[0])"
   ]
  },
  {
   "cell_type": "code",
   "execution_count": 9,
   "id": "e6bf65be",
   "metadata": {},
   "outputs": [
    {
     "name": "stdout",
     "output_type": "stream",
     "text": [
      "elgooG\n"
     ]
    }
   ],
   "source": [
    "print(empresa[::-1])"
   ]
  },
  {
   "cell_type": "code",
   "execution_count": 12,
   "id": "ac4a8c43",
   "metadata": {},
   "outputs": [
    {
     "name": "stdout",
     "output_type": "stream",
     "text": [
      "elgoog\n"
     ]
    }
   ],
   "source": [
    "print(empresa[::-1].lower())"
   ]
  },
  {
   "cell_type": "code",
   "execution_count": 13,
   "id": "8b76e06e",
   "metadata": {},
   "outputs": [
    {
     "name": "stdout",
     "output_type": "stream",
     "text": [
      "Goo\n"
     ]
    }
   ],
   "source": [
    "print(empresa[:3])"
   ]
  },
  {
   "cell_type": "code",
   "execution_count": 14,
   "id": "0423ca37",
   "metadata": {},
   "outputs": [
    {
     "name": "stdout",
     "output_type": "stream",
     "text": [
      "Gol\n"
     ]
    }
   ],
   "source": [
    "print(empresa[::2])"
   ]
  },
  {
   "cell_type": "markdown",
   "id": "7cbd6119",
   "metadata": {},
   "source": [
    "Agora vamos dar uma olhada em alguns métodos de strings. É importante perceber que ao contrário do que acontecia nas listas, os métodos aqui não perpetuam as alterações feitas, eles retornam as alterações feitas."
   ]
  },
  {
   "cell_type": "code",
   "execution_count": null,
   "id": "10303094",
   "metadata": {},
   "outputs": [],
   "source": [
    "Split"
   ]
  },
  {
   "cell_type": "code",
   "execution_count": 18,
   "id": "23940357",
   "metadata": {},
   "outputs": [
    {
     "name": "stdout",
     "output_type": "stream",
     "text": [
      "['São Paulo', ' Belo Horizonte', ' Rio de Janeiro', ' Brasília']\n",
      "São Paulo, Belo Horizonte, Rio de Janeiro, Brasília\n"
     ]
    }
   ],
   "source": [
    "nomes_cidades = \"São Paulo, Belo Horizonte, Rio de Janeiro, Brasília\"\n",
    "print(nomes_cidades.split(','))\n",
    "print(nomes_cidades)"
   ]
  },
  {
   "cell_type": "code",
   "execution_count": 19,
   "id": "67d120d8",
   "metadata": {},
   "outputs": [
    {
     "name": "stdout",
     "output_type": "stream",
     "text": [
      "['São Paulo', ' Belo Horizonte', ' Rio de Janeiro', ' Brasília']\n"
     ]
    }
   ],
   "source": [
    "nomes_cidades = nomes_cidades.split(',')\n",
    "print(nomes_cidades)"
   ]
  },
  {
   "cell_type": "markdown",
   "id": "6c83f03e",
   "metadata": {},
   "source": [
    "strip"
   ]
  },
  {
   "cell_type": "code",
   "execution_count": 22,
   "id": "178675fd",
   "metadata": {},
   "outputs": [
    {
     "name": "stdout",
     "output_type": "stream",
     "text": [
      "MENU PRINCIPAL\n"
     ]
    }
   ],
   "source": [
    "cabecalho = \"                MENU PRINCIPAL                  \"\n",
    "print(cabecalho.strip())"
   ]
  },
  {
   "cell_type": "markdown",
   "id": "643ba3f9",
   "metadata": {},
   "source": [
    "Métodos de formatação"
   ]
  },
  {
   "cell_type": "code",
   "execution_count": 24,
   "id": "a962a719",
   "metadata": {},
   "outputs": [
    {
     "name": "stdout",
     "output_type": "stream",
     "text": [
      "Rio De Janeiro\n",
      "Rio de janeiro\n",
      "rio de janeiro\n",
      "RIO DE JANEIRO\n"
     ]
    }
   ],
   "source": [
    "nome_cidade = 'rIo DE jaNeirO'\n",
    "\n",
    "print(nome_cidade.title()) \n",
    "print(nome_cidade.capitalize())\n",
    "print(nome_cidade.lower())\n",
    "print(nome_cidade.upper())"
   ]
  },
  {
   "cell_type": "code",
   "execution_count": 26,
   "id": "14b1ef64",
   "metadata": {},
   "outputs": [
    {
     "name": "stdout",
     "output_type": "stream",
     "text": [
      "Qual a cidade do Brasil que é conhecida como 'Cidade Maravilhosa'? são paulo\n",
      "Tente de novo, vai\n",
      "Qual a cidade do Brasil que é conhecida como 'Cidade Maravilhosa'IRRIR\n",
      "Tente de novo, vai\n",
      "Qual a cidade do Brasil que é conhecida como 'Cidade Maravilhosa'Rio de janeiro      \n",
      "Boa, campeã(o)\n"
     ]
    }
   ],
   "source": [
    "nome_cidade = input('Qual a cidade do Brasil que é conhecida como \\'Cidade Maravilhosa\\'? ').strip()\n",
    "\n",
    "while nome_cidade.lower() != 'rio de janeiro':\n",
    "    print('Tente de novo, vai')\n",
    "    nome_cidade = input('Qual a cidade do Brasil que é conhecida como \\'Cidade Maravilhosa\\'? ').strip()\n",
    "\n",
    "print('Boa, campeã(o)')"
   ]
  },
  {
   "cell_type": "markdown",
   "id": "032e1f65",
   "metadata": {},
   "source": [
    "Operador in para strings"
   ]
  },
  {
   "cell_type": "code",
   "execution_count": 29,
   "id": "73193451",
   "metadata": {},
   "outputs": [
    {
     "name": "stdout",
     "output_type": "stream",
     "text": [
      "Informe seu nome para checar se foi citado na mensagem:Pietro\n",
      "True\n"
     ]
    }
   ],
   "source": [
    "mensagem =  'Você viu o que o Pietro disse na sala ontem?'\n",
    "nome = input('Informe seu nome para checar se foi citado na mensagem: ')\n",
    "fui_citado = nome in mensagem\n",
    "print(fui_citado)"
   ]
  },
  {
   "cell_type": "code",
   "execution_count": null,
   "id": "d72126ce",
   "metadata": {},
   "outputs": [],
   "source": []
  }
 ],
 "metadata": {
  "kernelspec": {
   "display_name": "Python 3 (ipykernel)",
   "language": "python",
   "name": "python3"
  },
  "language_info": {
   "codemirror_mode": {
    "name": "ipython",
    "version": 3
   },
   "file_extension": ".py",
   "mimetype": "text/x-python",
   "name": "python",
   "nbconvert_exporter": "python",
   "pygments_lexer": "ipython3",
   "version": "3.10.7"
  }
 },
 "nbformat": 4,
 "nbformat_minor": 5
}

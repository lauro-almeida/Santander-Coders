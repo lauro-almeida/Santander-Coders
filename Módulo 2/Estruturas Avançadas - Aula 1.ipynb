{
 "cells": [
  {
   "cell_type": "markdown",
   "id": "33b19a5f",
   "metadata": {},
   "source": [
    "LISTAS"
   ]
  },
  {
   "cell_type": "markdown",
   "id": "6a93e92d",
   "metadata": {},
   "source": [
    "Declarando uma lista"
   ]
  },
  {
   "cell_type": "code",
   "execution_count": 19,
   "id": "8c9bd941",
   "metadata": {},
   "outputs": [
    {
     "name": "stdout",
     "output_type": "stream",
     "text": [
      "['Brasil', 'México', 'China', 'Canadá', 'França']\n"
     ]
    }
   ],
   "source": [
    "nomes_paises = ['Brasil', 'México', 'China', 'Canadá', 'França']\n",
    "print(nomes_paises)"
   ]
  },
  {
   "cell_type": "markdown",
   "id": "3b4fed0d",
   "metadata": {},
   "source": [
    "Descobrindo o tamanho da lista (função len())"
   ]
  },
  {
   "cell_type": "code",
   "execution_count": 20,
   "id": "3cec023e",
   "metadata": {
    "scrolled": true
   },
   "outputs": [
    {
     "name": "stdout",
     "output_type": "stream",
     "text": [
      "Tamanho da lista: 5\n"
     ]
    }
   ],
   "source": [
    "print('Tamanho da lista:', len(nomes_paises))"
   ]
  },
  {
   "cell_type": "markdown",
   "id": "b8746ebc",
   "metadata": {},
   "source": [
    "Obtendo valores da lista (indíces)"
   ]
  },
  {
   "cell_type": "code",
   "execution_count": 21,
   "id": "9082161a",
   "metadata": {},
   "outputs": [
    {
     "name": "stdout",
     "output_type": "stream",
     "text": [
      "País: França\n"
     ]
    }
   ],
   "source": [
    "print('País:', nomes_paises[4])"
   ]
  },
  {
   "cell_type": "code",
   "execution_count": 22,
   "id": "604632b5",
   "metadata": {},
   "outputs": [
    {
     "name": "stdout",
     "output_type": "stream",
     "text": [
      "País: França\n"
     ]
    }
   ],
   "source": [
    "print('País:', nomes_paises[-1])"
   ]
  },
  {
   "cell_type": "markdown",
   "id": "0e34ea56",
   "metadata": {},
   "source": [
    "Alterando o valor de um item da lista através do índice"
   ]
  },
  {
   "cell_type": "code",
   "execution_count": 23,
   "id": "4be3ba59",
   "metadata": {},
   "outputs": [
    {
     "name": "stdout",
     "output_type": "stream",
     "text": [
      "País: Panamá\n",
      "['Brasil', 'México', 'China', 'Panamá', 'França']\n"
     ]
    }
   ],
   "source": [
    "nomes_paises[3] = 'Panamá'\n",
    "print('País:', nomes_paises[3])\n",
    "print(nomes_paises)"
   ]
  },
  {
   "cell_type": "code",
   "execution_count": 24,
   "id": "2bac0b3b",
   "metadata": {},
   "outputs": [
    {
     "ename": "IndexError",
     "evalue": "list assignment index out of range",
     "output_type": "error",
     "traceback": [
      "\u001b[1;31m---------------------------------------------------------------------------\u001b[0m",
      "\u001b[1;31mIndexError\u001b[0m                                Traceback (most recent call last)",
      "Cell \u001b[1;32mIn [24], line 1\u001b[0m\n\u001b[1;32m----> 1\u001b[0m \u001b[43mnomes_paises\u001b[49m\u001b[43m[\u001b[49m\u001b[38;5;241;43m5\u001b[39;49m\u001b[43m]\u001b[49m \u001b[38;5;241m=\u001b[39m \u001b[38;5;124m'\u001b[39m\u001b[38;5;124mComlômbia\u001b[39m\u001b[38;5;124m'\u001b[39m\n",
      "\u001b[1;31mIndexError\u001b[0m: list assignment index out of range"
     ]
    }
   ],
   "source": [
    "nomes_paises[5] = 'Comlômbia'"
   ]
  },
  {
   "cell_type": "markdown",
   "id": "9f4d990c",
   "metadata": {},
   "source": [
    "Fatiando a lista (Observe que o índice informado não é considerado na operação)"
   ]
  },
  {
   "cell_type": "code",
   "execution_count": 25,
   "id": "124bdc0c",
   "metadata": {},
   "outputs": [
    {
     "name": "stdout",
     "output_type": "stream",
     "text": [
      "['México', 'China']\n"
     ]
    }
   ],
   "source": [
    "print(nomes_paises[1:3])"
   ]
  },
  {
   "cell_type": "code",
   "execution_count": 26,
   "id": "b8acfb51",
   "metadata": {},
   "outputs": [
    {
     "name": "stdout",
     "output_type": "stream",
     "text": [
      "['México', 'China', 'Panamá']\n"
     ]
    }
   ],
   "source": [
    "print(nomes_paises[1:-1])"
   ]
  },
  {
   "cell_type": "code",
   "execution_count": 27,
   "id": "1aa68a8a",
   "metadata": {},
   "outputs": [
    {
     "name": "stdout",
     "output_type": "stream",
     "text": [
      "['China', 'Panamá', 'França']\n"
     ]
    }
   ],
   "source": [
    "print(nomes_paises[2:])"
   ]
  },
  {
   "cell_type": "code",
   "execution_count": 28,
   "id": "739a5fc7",
   "metadata": {},
   "outputs": [
    {
     "name": "stdout",
     "output_type": "stream",
     "text": [
      "['Brasil', 'México', 'China']\n"
     ]
    }
   ],
   "source": [
    "print(nomes_paises[:3])"
   ]
  },
  {
   "cell_type": "code",
   "execution_count": 29,
   "id": "bf117e1b",
   "metadata": {},
   "outputs": [
    {
     "name": "stdout",
     "output_type": "stream",
     "text": [
      "['Brasil', 'México', 'China', 'Panamá', 'França']\n"
     ]
    }
   ],
   "source": [
    "print(nomes_paises[:])"
   ]
  },
  {
   "cell_type": "markdown",
   "id": "aec668d5",
   "metadata": {},
   "source": [
    "Fatiando a lista e adicionando um passo (de quantos em quantos items da lista eu quero selecionar)"
   ]
  },
  {
   "cell_type": "code",
   "execution_count": 30,
   "id": "f29a9d57",
   "metadata": {},
   "outputs": [
    {
     "name": "stdout",
     "output_type": "stream",
     "text": [
      "['Brasil', 'China', 'França']\n"
     ]
    }
   ],
   "source": [
    "print(nomes_paises[::2])"
   ]
  },
  {
   "cell_type": "code",
   "execution_count": 31,
   "id": "69133271",
   "metadata": {},
   "outputs": [
    {
     "name": "stdout",
     "output_type": "stream",
     "text": [
      "['França', 'Panamá', 'China', 'México', 'Brasil']\n"
     ]
    }
   ],
   "source": [
    "print(nomes_paises[::-1])"
   ]
  },
  {
   "cell_type": "markdown",
   "id": "9dfbe8b6",
   "metadata": {},
   "source": [
    "Checando se um determinado item está na lista"
   ]
  },
  {
   "cell_type": "code",
   "execution_count": 32,
   "id": "e477dd8a",
   "metadata": {},
   "outputs": [
    {
     "name": "stdout",
     "output_type": "stream",
     "text": [
      "True\n"
     ]
    }
   ],
   "source": [
    "print('Brasil' in nomes_paises)"
   ]
  },
  {
   "cell_type": "code",
   "execution_count": 33,
   "id": "7d71cbeb",
   "metadata": {},
   "outputs": [
    {
     "name": "stdout",
     "output_type": "stream",
     "text": [
      "False\n"
     ]
    }
   ],
   "source": [
    "print('EUA' in nomes_paises)"
   ]
  },
  {
   "cell_type": "code",
   "execution_count": 34,
   "id": "46d3e7f8",
   "metadata": {},
   "outputs": [
    {
     "name": "stdout",
     "output_type": "stream",
     "text": [
      "False\n"
     ]
    }
   ],
   "source": [
    "print('Brasil' not in nomes_paises)"
   ]
  },
  {
   "cell_type": "markdown",
   "id": "7af85dc9",
   "metadata": {},
   "source": [
    "Iniciando lista vazia e adicionando os itens de forma manual"
   ]
  },
  {
   "cell_type": "code",
   "execution_count": 35,
   "id": "ef598866",
   "metadata": {},
   "outputs": [],
   "source": [
    "lista_capitais = []"
   ]
  },
  {
   "cell_type": "code",
   "execution_count": 36,
   "id": "b05e9754",
   "metadata": {},
   "outputs": [],
   "source": [
    "lista_capitais.append('Brasília')\n",
    "lista_capitais.append('Cidade do Panamá')\n",
    "lista_capitais.append('Pequim')\n",
    "lista_capitais.append('Bogotá')\n",
    "lista_capitais.append('Paris')"
   ]
  },
  {
   "cell_type": "code",
   "execution_count": 37,
   "id": "4be3dc58",
   "metadata": {},
   "outputs": [
    {
     "data": {
      "text/plain": [
       "['Brasília', 'Cidade do Panamá', 'Pequim', 'Bogotá', 'Paris']"
      ]
     },
     "execution_count": 37,
     "metadata": {},
     "output_type": "execute_result"
    }
   ],
   "source": [
    "lista_capitais"
   ]
  },
  {
   "cell_type": "markdown",
   "id": "179ea515",
   "metadata": {},
   "source": [
    "Perceba que o método 'append' adiciona os itens no final da lista."
   ]
  },
  {
   "cell_type": "markdown",
   "id": "a50c560b",
   "metadata": {},
   "source": [
    "Para incluir um item em um local específico dentro da lista, podemos usar o método 'insert'"
   ]
  },
  {
   "cell_type": "code",
   "execution_count": 38,
   "id": "6ae393aa",
   "metadata": {},
   "outputs": [],
   "source": [
    "lista_capitais.insert(2, 'Bogotá')"
   ]
  },
  {
   "cell_type": "code",
   "execution_count": 40,
   "id": "a97e0d60",
   "metadata": {},
   "outputs": [
    {
     "name": "stdout",
     "output_type": "stream",
     "text": [
      "['Brasília', 'Cidade do Panamá', 'Bogotá', 'Pequim', 'Bogotá', 'Paris']\n"
     ]
    }
   ],
   "source": [
    "print(lista_capitais)"
   ]
  },
  {
   "cell_type": "markdown",
   "id": "54d7e1bf",
   "metadata": {},
   "source": [
    "Remover item da lista de acordo com seu valor"
   ]
  },
  {
   "cell_type": "code",
   "execution_count": 41,
   "id": "93db8ca7",
   "metadata": {},
   "outputs": [],
   "source": [
    "lista_capitais.remove('Cidade do Panamá')"
   ]
  },
  {
   "cell_type": "code",
   "execution_count": 42,
   "id": "c8b07dcb",
   "metadata": {},
   "outputs": [
    {
     "name": "stdout",
     "output_type": "stream",
     "text": [
      "['Brasília', 'Bogotá', 'Pequim', 'Bogotá', 'Paris']\n"
     ]
    }
   ],
   "source": [
    "print(lista_capitais)"
   ]
  },
  {
   "cell_type": "markdown",
   "id": "e2f52d17",
   "metadata": {},
   "source": [
    "Removendo item da lista de acordo com sua posição"
   ]
  },
  {
   "cell_type": "code",
   "execution_count": 43,
   "id": "33ba0200",
   "metadata": {},
   "outputs": [
    {
     "name": "stdout",
     "output_type": "stream",
     "text": [
      "['Brasília', 'Bogotá', 'Pequim', 'Paris'] Bogotá\n"
     ]
    }
   ],
   "source": [
    "removido = lista_capitais.pop(3)\n",
    "print(lista_capitais, removido)"
   ]
  },
  {
   "cell_type": "markdown",
   "id": "0403cacd",
   "metadata": {},
   "source": [
    "Perceba que o método pop além de remover o item que passamos o índice, ele retorna o valor do item que foi removido."
   ]
  },
  {
   "cell_type": "markdown",
   "id": "6df14645",
   "metadata": {},
   "source": []
  },
  {
   "cell_type": "markdown",
   "id": "414c0e2f",
   "metadata": {},
   "source": [
    "TUPLAS"
   ]
  },
  {
   "cell_type": "markdown",
   "id": "a999c55b",
   "metadata": {},
   "source": [
    "Declarando uma tupla"
   ]
  },
  {
   "cell_type": "code",
   "execution_count": 48,
   "id": "9b6b6b2c",
   "metadata": {},
   "outputs": [
    {
     "name": "stdout",
     "output_type": "stream",
     "text": [
      "('Brasil', 'Argentina', 'China', 'Canadá', 'Japão')\n",
      "<class 'tuple'>\n"
     ]
    }
   ],
   "source": [
    "nomes_paises = ('Brasil', 'Argentina', 'China', 'Canadá', 'Japão')\n",
    "print(nomes_paises)\n",
    "print(type(nomes_paises))"
   ]
  },
  {
   "cell_type": "code",
   "execution_count": 49,
   "id": "8d7113b6",
   "metadata": {},
   "outputs": [
    {
     "name": "stdout",
     "output_type": "stream",
     "text": [
      "('Brasil', 'Argentina', 'China', 'Canadá', 'Japão')\n",
      "<class 'tuple'>\n"
     ]
    }
   ],
   "source": [
    "nomes_paises = 'Brasil', 'Argentina', 'China', 'Canadá', 'Japão'\n",
    "print(nomes_paises)\n",
    "print(type(nomes_paises))"
   ]
  },
  {
   "cell_type": "markdown",
   "id": "439a1cf9",
   "metadata": {},
   "source": [
    "Declarando uma tupla de um item só (atente para o uso da vírgula)"
   ]
  },
  {
   "cell_type": "code",
   "execution_count": 51,
   "id": "4c149cf4",
   "metadata": {},
   "outputs": [
    {
     "name": "stdout",
     "output_type": "stream",
     "text": [
      "('São Paulo',) <class 'tuple'>\n"
     ]
    }
   ],
   "source": [
    "nome_estado = 'São Paulo',\n",
    "print(nome_estado, type(nome_estado))"
   ]
  },
  {
   "cell_type": "markdown",
   "id": "fd02ee10",
   "metadata": {},
   "source": [
    "Verificando o tamanho da tupla"
   ]
  },
  {
   "cell_type": "code",
   "execution_count": 52,
   "id": "26fffd2a",
   "metadata": {},
   "outputs": [
    {
     "data": {
      "text/plain": [
       "5"
      ]
     },
     "execution_count": 52,
     "metadata": {},
     "output_type": "execute_result"
    }
   ],
   "source": [
    "len(nomes_paises)"
   ]
  },
  {
   "cell_type": "markdown",
   "id": "6f7b6573",
   "metadata": {},
   "source": [
    "Acessando itens de acordo com seu índice"
   ]
  },
  {
   "cell_type": "code",
   "execution_count": 53,
   "id": "a962a509",
   "metadata": {},
   "outputs": [
    {
     "data": {
      "text/plain": [
       "'Brasil'"
      ]
     },
     "execution_count": 53,
     "metadata": {},
     "output_type": "execute_result"
    }
   ],
   "source": [
    "nomes_paises[0]"
   ]
  },
  {
   "cell_type": "markdown",
   "id": "a46a4126",
   "metadata": {},
   "source": [
    "Desestruturação de itens (unpack)"
   ]
  },
  {
   "cell_type": "code",
   "execution_count": 54,
   "id": "4fe27a43",
   "metadata": {},
   "outputs": [],
   "source": [
    "b, a, c, ca, j = nomes_paises"
   ]
  },
  {
   "cell_type": "code",
   "execution_count": 55,
   "id": "f47b8485",
   "metadata": {},
   "outputs": [
    {
     "name": "stdout",
     "output_type": "stream",
     "text": [
      "Brasil China Japão\n"
     ]
    }
   ],
   "source": [
    "print(b, c, j)"
   ]
  },
  {
   "cell_type": "markdown",
   "id": "b50f496b",
   "metadata": {},
   "source": [
    "Desestruturando os itens da lista sem armazenar em variáveis"
   ]
  },
  {
   "cell_type": "code",
   "execution_count": 56,
   "id": "0a77e50d",
   "metadata": {},
   "outputs": [
    {
     "name": "stdout",
     "output_type": "stream",
     "text": [
      "Brasil Argentina China Canadá Japão\n"
     ]
    }
   ],
   "source": [
    "print(*nomes_paises)"
   ]
  },
  {
   "cell_type": "code",
   "execution_count": null,
   "id": "1977297c",
   "metadata": {},
   "outputs": [],
   "source": []
  }
 ],
 "metadata": {
  "kernelspec": {
   "display_name": "Python 3 (ipykernel)",
   "language": "python",
   "name": "python3"
  },
  "language_info": {
   "codemirror_mode": {
    "name": "ipython",
    "version": 3
   },
   "file_extension": ".py",
   "mimetype": "text/x-python",
   "name": "python",
   "nbconvert_exporter": "python",
   "pygments_lexer": "ipython3",
   "version": "3.10.7"
  }
 },
 "nbformat": 4,
 "nbformat_minor": 5
}

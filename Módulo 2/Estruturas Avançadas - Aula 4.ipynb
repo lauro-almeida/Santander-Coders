{
 "cells": [
  {
   "cell_type": "markdown",
   "id": "1b616117",
   "metadata": {},
   "source": [
    "# Dicionários"
   ]
  },
  {
   "cell_type": "code",
   "execution_count": 1,
   "id": "6447457f",
   "metadata": {},
   "outputs": [],
   "source": [
    "dados_cidade = {\n",
    "    'nome': 'Rio de Janeiro',\n",
    "    'estado': 'Rio de Janeiro',\n",
    "    'area_km2': 1200,\n",
    "    'populacao_milhoes': 6.748\n",
    "}"
   ]
  },
  {
   "cell_type": "code",
   "execution_count": 2,
   "id": "59331429",
   "metadata": {},
   "outputs": [
    {
     "name": "stdout",
     "output_type": "stream",
     "text": [
      "<class 'dict'>\n"
     ]
    }
   ],
   "source": [
    "print(type(dados_cidade))"
   ]
  },
  {
   "cell_type": "code",
   "execution_count": 3,
   "id": "e140b12d",
   "metadata": {},
   "outputs": [
    {
     "name": "stdout",
     "output_type": "stream",
     "text": [
      "{'nome': 'Rio de Janeiro', 'estado': 'Rio de Janeiro', 'area_km2': 1200, 'populacao_milhoes': 6.748}\n"
     ]
    }
   ],
   "source": [
    "print(dados_cidade)"
   ]
  },
  {
   "cell_type": "markdown",
   "id": "caf7b208",
   "metadata": {},
   "source": [
    "## Inserindo um novo chave-valor"
   ]
  },
  {
   "cell_type": "code",
   "execution_count": 7,
   "id": "2de7ca20",
   "metadata": {
    "scrolled": true
   },
   "outputs": [],
   "source": [
    "dados_cidade['pais'] = 'Brasil'"
   ]
  },
  {
   "cell_type": "code",
   "execution_count": 8,
   "id": "a42141bc",
   "metadata": {},
   "outputs": [
    {
     "name": "stdout",
     "output_type": "stream",
     "text": [
      "{'nome': 'Rio de Janeiro', 'estado': 'Rio de Janeiro', 'area_km2': 1200, 'populacao_milhoes': 6.748, 'pais': 'Brasil'}\n"
     ]
    }
   ],
   "source": [
    "print(dados_cidade)"
   ]
  },
  {
   "cell_type": "markdown",
   "id": "5e749721",
   "metadata": {},
   "source": [
    "## Acessando os dados de um dicionário"
   ]
  },
  {
   "cell_type": "code",
   "execution_count": 9,
   "id": "e688de6c",
   "metadata": {},
   "outputs": [
    {
     "name": "stdout",
     "output_type": "stream",
     "text": [
      "Rio de Janeiro\n"
     ]
    }
   ],
   "source": [
    "print(dados_cidade['nome'])"
   ]
  },
  {
   "cell_type": "markdown",
   "id": "65306a3c",
   "metadata": {},
   "source": [
    "## Alterando o valor de uma chave"
   ]
  },
  {
   "cell_type": "code",
   "execution_count": 10,
   "id": "462a2b52",
   "metadata": {},
   "outputs": [
    {
     "name": "stdout",
     "output_type": "stream",
     "text": [
      "{'nome': 'Rio de Janeiro', 'estado': 'Rio de Janeiro', 'area_km2': 1500, 'populacao_milhoes': 6.748, 'pais': 'Brasil'}\n"
     ]
    }
   ],
   "source": [
    "dados_cidade['area_km2'] = 1500\n",
    "print(dados_cidade)"
   ]
  },
  {
   "cell_type": "markdown",
   "id": "ccde4b31",
   "metadata": {},
   "source": [
    "## Copiando dicionários"
   ]
  },
  {
   "cell_type": "code",
   "execution_count": 11,
   "id": "005bcfff",
   "metadata": {},
   "outputs": [],
   "source": [
    "dados_cidade_2 = dados_cidade"
   ]
  },
  {
   "cell_type": "code",
   "execution_count": 12,
   "id": "3b082d02",
   "metadata": {},
   "outputs": [],
   "source": [
    "dados_cidade_2['nome'] = 'Santos'"
   ]
  },
  {
   "cell_type": "code",
   "execution_count": 13,
   "id": "606bdb43",
   "metadata": {},
   "outputs": [
    {
     "name": "stdout",
     "output_type": "stream",
     "text": [
      "{'nome': 'Santos', 'estado': 'Rio de Janeiro', 'area_km2': 1500, 'populacao_milhoes': 6.748, 'pais': 'Brasil'}\n"
     ]
    }
   ],
   "source": [
    "print(dados_cidade_2)"
   ]
  },
  {
   "cell_type": "code",
   "execution_count": 14,
   "id": "a52485a2",
   "metadata": {},
   "outputs": [
    {
     "name": "stdout",
     "output_type": "stream",
     "text": [
      "{'nome': 'Santos', 'estado': 'Rio de Janeiro', 'area_km2': 1500, 'populacao_milhoes': 6.748, 'pais': 'Brasil'}\n"
     ]
    }
   ],
   "source": [
    "print(dados_cidade)"
   ]
  },
  {
   "cell_type": "markdown",
   "id": "208f0590",
   "metadata": {},
   "source": [
    "### Usando o método copy para isolar o dicionário original"
   ]
  },
  {
   "cell_type": "code",
   "execution_count": 15,
   "id": "2b181813",
   "metadata": {},
   "outputs": [],
   "source": [
    "dados_cidade_3 = dados_cidade.copy()"
   ]
  },
  {
   "cell_type": "code",
   "execution_count": 16,
   "id": "a1c33386",
   "metadata": {},
   "outputs": [],
   "source": [
    "dados_cidade_3['estado'] = 'São Paulo'"
   ]
  },
  {
   "cell_type": "code",
   "execution_count": 17,
   "id": "e7e67fdd",
   "metadata": {},
   "outputs": [
    {
     "name": "stdout",
     "output_type": "stream",
     "text": [
      "{'nome': 'Santos', 'estado': 'São Paulo', 'area_km2': 1500, 'populacao_milhoes': 6.748, 'pais': 'Brasil'}\n"
     ]
    }
   ],
   "source": [
    "print(dados_cidade_3)"
   ]
  },
  {
   "cell_type": "code",
   "execution_count": 18,
   "id": "9063c317",
   "metadata": {},
   "outputs": [
    {
     "name": "stdout",
     "output_type": "stream",
     "text": [
      "{'nome': 'Santos', 'estado': 'Rio de Janeiro', 'area_km2': 1500, 'populacao_milhoes': 6.748, 'pais': 'Brasil'}\n"
     ]
    }
   ],
   "source": [
    "print(dados_cidade)"
   ]
  },
  {
   "cell_type": "markdown",
   "id": "88a50b30",
   "metadata": {},
   "source": [
    "## Atualizando um dicionário a partir de dados um novo dicionário"
   ]
  },
  {
   "cell_type": "code",
   "execution_count": 19,
   "id": "81909ca9",
   "metadata": {},
   "outputs": [
    {
     "name": "stdout",
     "output_type": "stream",
     "text": [
      "{'nome': 'Santos', 'estado': 'Rio de Janeiro', 'area_km2': 1500, 'populacao_milhoes': 15, 'pais': 'Brasil', 'fundacao': '25/01/1554'}\n"
     ]
    }
   ],
   "source": [
    "novos_dados = {\n",
    "    'populacao_milhoes': 15,\n",
    "    'fundacao': '25/01/1554'\n",
    "}\n",
    "dados_cidade.update(novos_dados)\n",
    "print(dados_cidade)"
   ]
  },
  {
   "cell_type": "markdown",
   "id": "17148ff6",
   "metadata": {},
   "source": [
    "Perceba que com o método update, as propriedades que já existiam (populacao_milhoes) foram atualizadas e nas que não existiam (fundacao) ela foi adicionada."
   ]
  },
  {
   "cell_type": "code",
   "execution_count": 22,
   "id": "ef02a2ac",
   "metadata": {},
   "outputs": [
    {
     "ename": "KeyError",
     "evalue": "'prefeito'",
     "output_type": "error",
     "traceback": [
      "\u001b[1;31m---------------------------------------------------------------------------\u001b[0m",
      "\u001b[1;31mKeyError\u001b[0m                                  Traceback (most recent call last)",
      "Cell \u001b[1;32mIn [22], line 1\u001b[0m\n\u001b[1;32m----> 1\u001b[0m \u001b[38;5;28mprint\u001b[39m(\u001b[43mdados_cidade\u001b[49m\u001b[43m[\u001b[49m\u001b[38;5;124;43m'\u001b[39;49m\u001b[38;5;124;43mprefeito\u001b[39;49m\u001b[38;5;124;43m'\u001b[39;49m\u001b[43m]\u001b[49m)\n",
      "\u001b[1;31mKeyError\u001b[0m: 'prefeito'"
     ]
    }
   ],
   "source": [
    "print(dados_cidade['prefeito'])"
   ]
  },
  {
   "cell_type": "markdown",
   "id": "22d0b121",
   "metadata": {},
   "source": [
    "## Método get para acessar uma chave\n",
    "Diferente do uso da notação ['chave'], o método get retorna o valor 'none' que é como um nulo, se a chave procurada não for encontrada. Isso facilita o tratamento do retorno e é melhor do que um erro no programa, que irá parar a execução."
   ]
  },
  {
   "cell_type": "code",
   "execution_count": 21,
   "id": "f17d22d6",
   "metadata": {},
   "outputs": [
    {
     "name": "stdout",
     "output_type": "stream",
     "text": [
      "None\n"
     ]
    }
   ],
   "source": [
    "print(dados_cidade.get('prefeito'))"
   ]
  },
  {
   "cell_type": "markdown",
   "id": "9c06d545",
   "metadata": {},
   "source": [
    "## Método para transformar dicionários em listas"
   ]
  },
  {
   "cell_type": "code",
   "execution_count": 28,
   "id": "196a90c9",
   "metadata": {},
   "outputs": [
    {
     "name": "stdout",
     "output_type": "stream",
     "text": [
      "dict_keys(['nome', 'estado', 'area_km2', 'populacao_milhoes', 'pais', 'fundacao'])\n",
      "-------------------------------------------------------------------------------------------------------------------------------\n",
      "dict_values(['Santos', 'Rio de Janeiro', 1500, 15, 'Brasil', '25/01/1554'])\n",
      "-------------------------------------------------------------------------------------------------------------------------------\n",
      "dict_items([('nome', 'Santos'), ('estado', 'Rio de Janeiro'), ('area_km2', 1500), ('populacao_milhoes', 15), ('pais', 'Brasil'), ('fundacao', '25/01/1554')])\n",
      "-------------------------------------------------------------------------------------------------------------------------------\n"
     ]
    }
   ],
   "source": [
    "print(dados_cidade.keys()) # retorna uma lista de chaves de um dicionário\n",
    "print('-' * 127)\n",
    "print(dados_cidade.values()) # retorna uma lista de chaves de um dicionário\n",
    "print('-' * 127)\n",
    "print(dados_cidade.items()) # retorna uma lista de chaves de um dicionário\n",
    "print('-' * 127)"
   ]
  },
  {
   "cell_type": "code",
   "execution_count": null,
   "id": "324684ae",
   "metadata": {},
   "outputs": [],
   "source": []
  }
 ],
 "metadata": {
  "kernelspec": {
   "display_name": "Python 3 (ipykernel)",
   "language": "python",
   "name": "python3"
  },
  "language_info": {
   "codemirror_mode": {
    "name": "ipython",
    "version": 3
   },
   "file_extension": ".py",
   "mimetype": "text/x-python",
   "name": "python",
   "nbconvert_exporter": "python",
   "pygments_lexer": "ipython3",
   "version": "3.10.7"
  }
 },
 "nbformat": 4,
 "nbformat_minor": 5
}

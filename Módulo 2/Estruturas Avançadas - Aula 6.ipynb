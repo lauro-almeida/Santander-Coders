{
 "cells": [
  {
   "cell_type": "markdown",
   "id": "5b71c9d4",
   "metadata": {},
   "source": [
    "# Funções"
   ]
  },
  {
   "cell_type": "code",
   "execution_count": 6,
   "id": "ab7ad16f",
   "metadata": {},
   "outputs": [],
   "source": [
    "def hello():\n",
    "    print('hello world!')"
   ]
  },
  {
   "cell_type": "code",
   "execution_count": 7,
   "id": "8b8b2369",
   "metadata": {},
   "outputs": [
    {
     "name": "stdout",
     "output_type": "stream",
     "text": [
      "hello world!\n"
     ]
    }
   ],
   "source": [
    "hello()"
   ]
  },
  {
   "cell_type": "code",
   "execution_count": 9,
   "id": "4ea90ce7",
   "metadata": {},
   "outputs": [],
   "source": [
    "def greeting(nome):\n",
    "    print(f'hello, {nome}!')"
   ]
  },
  {
   "cell_type": "code",
   "execution_count": 10,
   "id": "803c6778",
   "metadata": {},
   "outputs": [
    {
     "name": "stdout",
     "output_type": "stream",
     "text": [
      "hello, Lauro!\n"
     ]
    }
   ],
   "source": [
    "greeting('Lauro')"
   ]
  },
  {
   "cell_type": "code",
   "execution_count": 15,
   "id": "1ee5f551",
   "metadata": {},
   "outputs": [],
   "source": [
    "def calcula_media(n1, n2, n3):\n",
    "    media = (n1 + n2 + n3) / 3\n",
    "    return media"
   ]
  },
  {
   "cell_type": "code",
   "execution_count": 24,
   "id": "8bce8e7d",
   "metadata": {},
   "outputs": [
    {
     "name": "stdout",
     "output_type": "stream",
     "text": [
      "2.6666666666666665\n"
     ]
    }
   ],
   "source": [
    "resultado = calcula_media(3, 4, 1)\n",
    "print(resultado)"
   ]
  },
  {
   "cell_type": "code",
   "execution_count": 30,
   "id": "d89fac7c",
   "metadata": {},
   "outputs": [
    {
     "name": "stdout",
     "output_type": "stream",
     "text": [
      "9.33\n"
     ]
    }
   ],
   "source": [
    "resultado2 = calcula_media(n1 = 9, n2=10, n3=9)\n",
    "print(f'{resultado2:.2f}')"
   ]
  },
  {
   "cell_type": "markdown",
   "id": "81f0e308",
   "metadata": {},
   "source": [
    "## Valores padrões já setados\n",
    "Agora vamos dar uma olhada em como deixar valores setados por padrão em nossas funções. Para entender melhor isso, podemos olhar pra função print. Veja que se executarmos 2 prints, os valores serão devolvidos em linhas distintas, mesmo sem especificarmos isso. Isso ocorre pq por padrão a função já tem um caractere de quebra de linha no final."
   ]
  },
  {
   "cell_type": "code",
   "execution_count": 31,
   "id": "23dd4164",
   "metadata": {
    "scrolled": true
   },
   "outputs": [
    {
     "name": "stdout",
     "output_type": "stream",
     "text": [
      "Olá\n",
      ", Lauro\n"
     ]
    }
   ],
   "source": [
    "print('Olá')\n",
    "print(', Lauro')"
   ]
  },
  {
   "cell_type": "markdown",
   "id": "e7d95357",
   "metadata": {},
   "source": [
    "Mas podemos mudar isso definindo esse caractere final como quisermos:"
   ]
  },
  {
   "cell_type": "code",
   "execution_count": 32,
   "id": "4f2fc248",
   "metadata": {},
   "outputs": [
    {
     "name": "stdout",
     "output_type": "stream",
     "text": [
      "Olá , Lauro\n"
     ]
    }
   ],
   "source": [
    "print('Olá', end=' ')\n",
    "print(', Lauro')"
   ]
  },
  {
   "cell_type": "markdown",
   "id": "a66fdd28",
   "metadata": {},
   "source": [
    "Agora vamos fazer na função que construímos:"
   ]
  },
  {
   "cell_type": "code",
   "execution_count": 38,
   "id": "59b48314",
   "metadata": {},
   "outputs": [],
   "source": [
    "def calcula_media(n1=0, n2=0, n3=0):\n",
    "    media = (n1 + n2 + n3) / 3\n",
    "    return media"
   ]
  },
  {
   "cell_type": "code",
   "execution_count": 40,
   "id": "6a80476e",
   "metadata": {},
   "outputs": [
    {
     "name": "stdout",
     "output_type": "stream",
     "text": [
      "0.0\n"
     ]
    }
   ],
   "source": [
    "resultado3 = calcula_media()\n",
    "print(resultado3)"
   ]
  },
  {
   "cell_type": "markdown",
   "id": "258eac45",
   "metadata": {},
   "source": [
    "É necessário saber que nós não podemos deixar valores não declarados por padrão antes de valores que recebem. O python não entende e vai dar erro:"
   ]
  },
  {
   "cell_type": "code",
   "execution_count": 41,
   "id": "e8ac62ea",
   "metadata": {},
   "outputs": [
    {
     "ename": "SyntaxError",
     "evalue": "non-default argument follows default argument (3587504503.py, line 1)",
     "output_type": "error",
     "traceback": [
      "\u001b[1;36m  Cell \u001b[1;32mIn [41], line 1\u001b[1;36m\u001b[0m\n\u001b[1;33m    def calcula_media(n1=0, n2, n3=0):\u001b[0m\n\u001b[1;37m                            ^\u001b[0m\n\u001b[1;31mSyntaxError\u001b[0m\u001b[1;31m:\u001b[0m non-default argument follows default argument\n"
     ]
    }
   ],
   "source": [
    "def calcula_media(n1=0, n2, n3=0):\n",
    "    media = (n1 + n2 + n3) / 3\n",
    "    return media"
   ]
  },
  {
   "cell_type": "markdown",
   "id": "1f0ce7ba",
   "metadata": {},
   "source": []
  },
  {
   "cell_type": "markdown",
   "id": "3366f88f",
   "metadata": {},
   "source": [
    "### A forma que a documentação de Python sugere que lidemos com números decimais:"
   ]
  },
  {
   "cell_type": "code",
   "execution_count": null,
   "id": "d85296d6",
   "metadata": {},
   "outputs": [],
   "source": []
  },
  {
   "cell_type": "code",
   "execution_count": 17,
   "id": "36d027af",
   "metadata": {},
   "outputs": [],
   "source": [
    "from decimal import *"
   ]
  },
  {
   "cell_type": "code",
   "execution_count": 21,
   "id": "d4c6e62d",
   "metadata": {},
   "outputs": [],
   "source": [
    "getcontext().prec = 3"
   ]
  },
  {
   "cell_type": "code",
   "execution_count": 22,
   "id": "75cbb3f5",
   "metadata": {},
   "outputs": [
    {
     "data": {
      "text/plain": [
       "Decimal('2.67')"
      ]
     },
     "execution_count": 22,
     "metadata": {},
     "output_type": "execute_result"
    }
   ],
   "source": [
    "Decimal(8) / Decimal(3)"
   ]
  },
  {
   "cell_type": "code",
   "execution_count": null,
   "id": "809e1934",
   "metadata": {},
   "outputs": [],
   "source": [
    "resultado2"
   ]
  }
 ],
 "metadata": {
  "kernelspec": {
   "display_name": "Python 3 (ipykernel)",
   "language": "python",
   "name": "python3"
  },
  "language_info": {
   "codemirror_mode": {
    "name": "ipython",
    "version": 3
   },
   "file_extension": ".py",
   "mimetype": "text/x-python",
   "name": "python",
   "nbconvert_exporter": "python",
   "pygments_lexer": "ipython3",
   "version": "3.10.7"
  }
 },
 "nbformat": 4,
 "nbformat_minor": 5
}

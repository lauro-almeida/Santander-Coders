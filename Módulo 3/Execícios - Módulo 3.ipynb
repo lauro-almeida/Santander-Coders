{
 "cells": [
  {
   "cell_type": "markdown",
   "id": "ed3b6619",
   "metadata": {},
   "source": [
    "# 1. Faça um programa que olhe todos os itens de uma lista e diga quantos deles são pares."
   ]
  },
  {
   "cell_type": "code",
   "execution_count": 2,
   "id": "55244f81",
   "metadata": {},
   "outputs": [
    {
     "name": "stdout",
     "output_type": "stream",
     "text": [
      "A lista contém 4 números pares.\n"
     ]
    }
   ],
   "source": [
    "lista = [1, 2, 3, 5, 6, 7, 8, 9, 10]\n",
    "n_pares = 0\n",
    "\n",
    "for n in lista:\n",
    "    if n % 2 == 0:\n",
    "        n_pares += 1\n",
    "print(f'A lista contém {n_pares} números pares.')"
   ]
  },
  {
   "cell_type": "markdown",
   "id": "fe868a65",
   "metadata": {},
   "source": [
    "_______________________________________________________________________________________________________________________________"
   ]
  },
  {
   "cell_type": "markdown",
   "id": "186b390d",
   "metadata": {},
   "source": [
    "# 2. Faça um programa que peça para o usuário digitar uma palavra e imprima cada letra em uma linha."
   ]
  },
  {
   "cell_type": "code",
   "execution_count": 5,
   "id": "dc7419c7",
   "metadata": {},
   "outputs": [
    {
     "name": "stdout",
     "output_type": "stream",
     "text": [
      "Digite uma palavra: Lauro\n",
      "L\n",
      "a\n",
      "u\n",
      "r\n",
      "o\n"
     ]
    }
   ],
   "source": [
    "palavra = input('Digite uma palavra: ')\n",
    "for letra in palavra:\n",
    "    print(letra)"
   ]
  },
  {
   "cell_type": "markdown",
   "id": "d62cedbd",
   "metadata": {},
   "source": [
    "_______________________________________________________________________________________________________________________________"
   ]
  },
  {
   "cell_type": "markdown",
   "id": "80bb9245",
   "metadata": {},
   "source": [
    "# 3. Faça uma função que recebe duas listas e retorna a soma item a item dessas listas.\n",
    "\n",
    "# Exemplo: Se a função receber as listas [1,4,3] e [3,5,1], então a função deve retornar [1+3, 4+5, 3+1] = [4, 9, 4]."
   ]
  },
  {
   "cell_type": "code",
   "execution_count": 6,
   "id": "267a4c62",
   "metadata": {},
   "outputs": [],
   "source": [
    "def soma_listas(l1, l2):\n",
    "    l3 = []\n",
    "    for i in range(len(l1)):\n",
    "        l3.append(l1[i] + l2[i])\n",
    "    return l3\n",
    "        "
   ]
  },
  {
   "cell_type": "code",
   "execution_count": 7,
   "id": "a8ce2634",
   "metadata": {},
   "outputs": [
    {
     "name": "stdout",
     "output_type": "stream",
     "text": [
      "[4, 9, 4]\n"
     ]
    }
   ],
   "source": [
    "l1 = [1,4,3]\n",
    "l2 = [3,5,1]\n",
    "\n",
    "resultado = soma_listas(l1, l2)\n",
    "print(resultado)"
   ]
  },
  {
   "cell_type": "markdown",
   "id": "e012e725",
   "metadata": {},
   "source": [
    "_______________________________________________________________________________________________________________________________"
   ]
  },
  {
   "cell_type": "markdown",
   "id": "b9c4aade",
   "metadata": {},
   "source": [
    "# 4. Crie um dicionário cujas chaves são os meses do ano e os valores são a duração (em dias) de cada mês."
   ]
  },
  {
   "cell_type": "code",
   "execution_count": 8,
   "id": "6df52c8e",
   "metadata": {},
   "outputs": [],
   "source": [
    "meses_dias = {\n",
    "    'Janeiro': 31,\n",
    "    'Fevereiro': 28,\n",
    "    'Março': 31,\n",
    "    'Abril': 30,\n",
    "    'Maio': 31,\n",
    "    'Junho': 30,\n",
    "    'Julho': 31,\n",
    "    'Agosto': 31,\n",
    "    'Setembro': 30,\n",
    "    'Outrubro': 31,\n",
    "    'Novembro': 30,\n",
    "    'Dezembro': 31,\n",
    "}"
   ]
  },
  {
   "cell_type": "markdown",
   "id": "73b4f358",
   "metadata": {},
   "source": [
    "_______________________________________________________________________________________________________________________________"
   ]
  },
  {
   "cell_type": "markdown",
   "id": "2f49788e",
   "metadata": {},
   "source": [
    "# 5. Imprima as chaves seguidas dos seus valores para dicionário criado no exercício anterior.\n",
    "\n",
    "### Exemplo:\n",
    " Janeiro - 31\n",
    " Fevereiro - 28\n",
    " Março - 31\n",
    " Etc..."
   ]
  },
  {
   "cell_type": "code",
   "execution_count": 9,
   "id": "ce0f40db",
   "metadata": {},
   "outputs": [
    {
     "name": "stdout",
     "output_type": "stream",
     "text": [
      "Janeiro - 31\n",
      "Fevereiro - 28\n",
      "Março - 31\n",
      "Abril - 30\n",
      "Maio - 31\n",
      "Junho - 30\n",
      "Julho - 31\n",
      "Agosto - 31\n",
      "Setembro - 30\n",
      "Outrubro - 31\n",
      "Novembro - 30\n",
      "Dezembro - 31\n"
     ]
    }
   ],
   "source": [
    "for mes in meses_dias:\n",
    "    print(f'{mes} - {meses_dias[mes]}')"
   ]
  },
  {
   "cell_type": "markdown",
   "id": "b57f9753",
   "metadata": {},
   "source": [
    "_______________________________________________________________________________________________________________________________"
   ]
  }
 ],
 "metadata": {
  "kernelspec": {
   "display_name": "Python 3 (ipykernel)",
   "language": "python",
   "name": "python3"
  },
  "language_info": {
   "codemirror_mode": {
    "name": "ipython",
    "version": 3
   },
   "file_extension": ".py",
   "mimetype": "text/x-python",
   "name": "python",
   "nbconvert_exporter": "python",
   "pygments_lexer": "ipython3",
   "version": "3.10.7"
  }
 },
 "nbformat": 4,
 "nbformat_minor": 5
}

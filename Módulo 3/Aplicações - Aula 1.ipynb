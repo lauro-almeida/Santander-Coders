{
 "cells": [
  {
   "cell_type": "markdown",
   "id": "746255d2",
   "metadata": {},
   "source": [
    "# Leitura e Manipulação de Arquivos"
   ]
  },
  {
   "cell_type": "markdown",
   "id": "31b3504d",
   "metadata": {},
   "source": [
    "## Leitura"
   ]
  },
  {
   "cell_type": "markdown",
   "id": "0d7d368a",
   "metadata": {},
   "source": [
    "No bloco abaixo, nós estamos usando uma função nativa do python para trabalhar com arquivos. Esta função recebe como parâmetro o caminho do arquivo, o método que vamos usar (no exemplo abaixo estamos usando r de read, ou seja, somente leitura), e o formato do encode do nosso arquivo).\n",
    "Note que atribuímos esse arquivo que foi processado pelo python a uma variável. Agora, podemos usar métodos de arquivo para trabalhar com ele.\n",
    "O primeiro que usamos abaixo foi o read, que lerá todas as linhas do arquivo, e atribuímos para a variável texto. Ao imprimir o texto, nós vamos ver tudo que o arquivo contém.\n",
    "Por fim, nós fechamos com close(). Devemos sempre fechar aquivos que foram abertos, pois isso pode causar falhas de segurança e consumo de processamento."
   ]
  },
  {
   "cell_type": "code",
   "execution_count": 3,
   "id": "532efb3f",
   "metadata": {},
   "outputs": [
    {
     "name": "stdout",
     "output_type": "stream",
     "text": [
      "Dom Casmurro \n",
      "\n",
      "Texto de referenda: \n",
      "Obras Completas de Machado de Assis, vol. I, \n",
      "Nova Aguilar, Rio de Janeiro, 1994. \n",
      "Publicado originalmente pela Editora Gamier, Rio de Janeiro, 1899. \n",
      "\n",
      "\n",
      "CAPITULO PRIMEIRO \n",
      "DO TITULO \n",
      "\n",
      "Uma noite destas, vindo da cidade para o Engenho Novo, encontrei no trem da \n",
      "Central um rapaz aqui do bairro, que eu conhego de vista e de chapeu. \n",
      "Cumprimentou-me, sentou-se ao pe de mim, falou da Lua e dos ministros, e \n",
      "acabou recitando-me versos. A viagem era curta, e os versos pode ser que nao \n",
      "fossem inteiramente maus. Sucedeu, porem, que, como eu estava cansado, fechei \n",
      "os olhos tres ou quatro vezes; tanto bastou para que ele interrompesse a leitura e \n",
      "metesse os versos no bolso. \n",
      "\n",
      "— Continue, disse eu acordando. \n",
      "\n",
      "— Ja acabei, murmurou ele. \n",
      "\n",
      "— Sao muito bonitos. \n",
      "\n",
      "Vi-lhe fazer um gesto para tira-los outra vez do bolso, mas nao passou do gesto; \n",
      "estava amuado. No dia seguinte entrou a dizer de mim nomes feios, e acabou \n",
      "alcunhando-me Dom Casmurro. Os vizinhos, que nao gostam dos meus habitos \n",
      "reclusos e calados, deram curso a alcunha, que afinal pegou. Nem por isso me \n",
      "zanguei. Contei a anedota aos amigos da cidade, e eles, por graga, chamam-me \n",
      "assim, alguns em bilhetes: \"Dom Casmurro, domingo vou jantar com voce”.— \n",
      "\"Vou para Petropolis, Dom Casmurro; a casa e a mesma da Renania; ve se deixas \n",
      "essa caverna do Engenho Novo, e vai la passar uns quinze dias comigo\".— \"Meu \n",
      "caro Dom Casmurro, nao cuide que o dispenso do teatro amanha; venha e dormira \n",
      "aqui na cidade; dou-lhe camarote, dou-lhe cha, dou-lhe cama; so nao Ihe dou \n",
      "moga”. \n",
      "\n",
      "Nao consultes dicionarios. Casmurro nao esta aqui no sentido que eles Ihe dao, \n",
      "mas no que Ihe pos o vulgo de homem calado e metido consigo. Dom veio por \n",
      "ironia, para atribuir-me fumos de fidalgo. Tudo por estar cochilando! Tambem nao \n",
      "achei melhor titulo para a minha narracao; se nao tiver outro daqui ate ao fim do \n",
      "livro, vai este mesmo. O meu poeta do trem ficara sabendo que nao Ihe guardo \n",
      "rancor. E com pequeno esforco, sendo o titulo seu, podera cuidar que a obra e \n",
      "sua. Ha livros que apenas terao isso dos seus autores; alguns nem tanto. \n"
     ]
    }
   ],
   "source": [
    "arquivo = open('dom_casmurro_cap_1.txt', 'r', encoding='utf-8') # open(caminho do arquivo, flag de ação (r = read), \n",
    "# encode do txt)\n",
    "texto = arquivo.read()\n",
    "print(texto)\n",
    "arquivo.close()"
   ]
  },
  {
   "cell_type": "markdown",
   "id": "f27b491e",
   "metadata": {},
   "source": [
    "Abaixo temos outra forma de leitura de arquivos. Nós continuamos com a mesma forma de abertura, mas agora usamos o método readline(), que irá ler o arquivo de linha em linha. É importante lembrar que o python possui um internamente um cursor, que é utilizado para marcar qual linha do arquivo estamos percorrendo.\n",
    "Depois disso, nós usamos um loop while para percorrer cada linha do arquivo, até que a linha esteja vazia. Vamos imprimir linha a linha, garantindo que não teremos uma quebra automática (end='').\n",
    "Depois disso nós usamos o readline() novamente, para que o python entenda que estamos indo para a próxima linha.\n",
    "Depois, é só fechar o arquivo."
   ]
  },
  {
   "cell_type": "code",
   "execution_count": 4,
   "id": "e0af1a27",
   "metadata": {},
   "outputs": [
    {
     "name": "stdout",
     "output_type": "stream",
     "text": [
      "Dom Casmurro \n",
      "\n",
      "Texto de referenda: \n",
      "Obras Completas de Machado de Assis, vol. I, \n",
      "Nova Aguilar, Rio de Janeiro, 1994. \n",
      "Publicado originalmente pela Editora Gamier, Rio de Janeiro, 1899. \n",
      "\n",
      "\n",
      "CAPITULO PRIMEIRO \n",
      "DO TITULO \n",
      "\n",
      "Uma noite destas, vindo da cidade para o Engenho Novo, encontrei no trem da \n",
      "Central um rapaz aqui do bairro, que eu conhego de vista e de chapeu. \n",
      "Cumprimentou-me, sentou-se ao pe de mim, falou da Lua e dos ministros, e \n",
      "acabou recitando-me versos. A viagem era curta, e os versos pode ser que nao \n",
      "fossem inteiramente maus. Sucedeu, porem, que, como eu estava cansado, fechei \n",
      "os olhos tres ou quatro vezes; tanto bastou para que ele interrompesse a leitura e \n",
      "metesse os versos no bolso. \n",
      "\n",
      "— Continue, disse eu acordando. \n",
      "\n",
      "— Ja acabei, murmurou ele. \n",
      "\n",
      "— Sao muito bonitos. \n",
      "\n",
      "Vi-lhe fazer um gesto para tira-los outra vez do bolso, mas nao passou do gesto; \n",
      "estava amuado. No dia seguinte entrou a dizer de mim nomes feios, e acabou \n",
      "alcunhando-me Dom Casmurro. Os vizinhos, que nao gostam dos meus habitos \n",
      "reclusos e calados, deram curso a alcunha, que afinal pegou. Nem por isso me \n",
      "zanguei. Contei a anedota aos amigos da cidade, e eles, por graga, chamam-me \n",
      "assim, alguns em bilhetes: \"Dom Casmurro, domingo vou jantar com voce”.— \n",
      "\"Vou para Petropolis, Dom Casmurro; a casa e a mesma da Renania; ve se deixas \n",
      "essa caverna do Engenho Novo, e vai la passar uns quinze dias comigo\".— \"Meu \n",
      "caro Dom Casmurro, nao cuide que o dispenso do teatro amanha; venha e dormira \n",
      "aqui na cidade; dou-lhe camarote, dou-lhe cha, dou-lhe cama; so nao Ihe dou \n",
      "moga”. \n",
      "\n",
      "Nao consultes dicionarios. Casmurro nao esta aqui no sentido que eles Ihe dao, \n",
      "mas no que Ihe pos o vulgo de homem calado e metido consigo. Dom veio por \n",
      "ironia, para atribuir-me fumos de fidalgo. Tudo por estar cochilando! Tambem nao \n",
      "achei melhor titulo para a minha narracao; se nao tiver outro daqui ate ao fim do \n",
      "livro, vai este mesmo. O meu poeta do trem ficara sabendo que nao Ihe guardo \n",
      "rancor. E com pequeno esforco, sendo o titulo seu, podera cuidar que a obra e \n",
      "sua. Ha livros que apenas terao isso dos seus autores; alguns nem tanto. "
     ]
    }
   ],
   "source": [
    "arquivo = open('dom_casmurro_cap_1.txt', 'r', encoding='utf-8')\n",
    "linha = arquivo.readline()\n",
    "while linha != '':\n",
    "    print(linha, end='')\n",
    "    linha = arquivo.readline()\n",
    "arquivo.close()"
   ]
  },
  {
   "cell_type": "markdown",
   "id": "1609a11b",
   "metadata": {},
   "source": [
    "Outra forma de alcançar o mesmo resultado de cima, é utilizando o loop for. Dessa forma, o python já consegue inferir que queremos percorrer o arquivo linha a linha."
   ]
  },
  {
   "cell_type": "code",
   "execution_count": 5,
   "id": "67feb5d2",
   "metadata": {},
   "outputs": [
    {
     "name": "stdout",
     "output_type": "stream",
     "text": [
      "Dom Casmurro \n",
      "\n",
      "Texto de referenda: \n",
      "Obras Completas de Machado de Assis, vol. I, \n",
      "Nova Aguilar, Rio de Janeiro, 1994. \n",
      "Publicado originalmente pela Editora Gamier, Rio de Janeiro, 1899. \n",
      "\n",
      "\n",
      "CAPITULO PRIMEIRO \n",
      "DO TITULO \n",
      "\n",
      "Uma noite destas, vindo da cidade para o Engenho Novo, encontrei no trem da \n",
      "Central um rapaz aqui do bairro, que eu conhego de vista e de chapeu. \n",
      "Cumprimentou-me, sentou-se ao pe de mim, falou da Lua e dos ministros, e \n",
      "acabou recitando-me versos. A viagem era curta, e os versos pode ser que nao \n",
      "fossem inteiramente maus. Sucedeu, porem, que, como eu estava cansado, fechei \n",
      "os olhos tres ou quatro vezes; tanto bastou para que ele interrompesse a leitura e \n",
      "metesse os versos no bolso. \n",
      "\n",
      "— Continue, disse eu acordando. \n",
      "\n",
      "— Ja acabei, murmurou ele. \n",
      "\n",
      "— Sao muito bonitos. \n",
      "\n",
      "Vi-lhe fazer um gesto para tira-los outra vez do bolso, mas nao passou do gesto; \n",
      "estava amuado. No dia seguinte entrou a dizer de mim nomes feios, e acabou \n",
      "alcunhando-me Dom Casmurro. Os vizinhos, que nao gostam dos meus habitos \n",
      "reclusos e calados, deram curso a alcunha, que afinal pegou. Nem por isso me \n",
      "zanguei. Contei a anedota aos amigos da cidade, e eles, por graga, chamam-me \n",
      "assim, alguns em bilhetes: \"Dom Casmurro, domingo vou jantar com voce”.— \n",
      "\"Vou para Petropolis, Dom Casmurro; a casa e a mesma da Renania; ve se deixas \n",
      "essa caverna do Engenho Novo, e vai la passar uns quinze dias comigo\".— \"Meu \n",
      "caro Dom Casmurro, nao cuide que o dispenso do teatro amanha; venha e dormira \n",
      "aqui na cidade; dou-lhe camarote, dou-lhe cha, dou-lhe cama; so nao Ihe dou \n",
      "moga”. \n",
      "\n",
      "Nao consultes dicionarios. Casmurro nao esta aqui no sentido que eles Ihe dao, \n",
      "mas no que Ihe pos o vulgo de homem calado e metido consigo. Dom veio por \n",
      "ironia, para atribuir-me fumos de fidalgo. Tudo por estar cochilando! Tambem nao \n",
      "achei melhor titulo para a minha narracao; se nao tiver outro daqui ate ao fim do \n",
      "livro, vai este mesmo. O meu poeta do trem ficara sabendo que nao Ihe guardo \n",
      "rancor. E com pequeno esforco, sendo o titulo seu, podera cuidar que a obra e \n",
      "sua. Ha livros que apenas terao isso dos seus autores; alguns nem tanto. "
     ]
    }
   ],
   "source": [
    "arquivo = open('dom_casmurro_cap_1.txt', 'r', encoding='utf-8')\n",
    "for linha in arquivo:\n",
    "    print(linha, end='')\n",
    "arquivo.close()"
   ]
  },
  {
   "cell_type": "markdown",
   "id": "a66b98ed",
   "metadata": {},
   "source": [
    "Como sabemos, todo programador é preguiçoso. E para facilitar a vida do programador, a linguagem python implementou o 'with', que economiza linhas de código, para não precisarmos abrir e fechar o arquivo sempre.\n",
    "Nessa estrutura, nós abrimos o arquivo, assimc omo fizemos acima, damos um apelido para o mesmo, e fazemos o que quisermos. Depois de fazer o que queremos, o python vai fechar o arquivo automaticamente, sem a necessidade de declararmos."
   ]
  },
  {
   "cell_type": "code",
   "execution_count": null,
   "id": "ce85cb9c",
   "metadata": {},
   "outputs": [],
   "source": [
    "with open('dom_casmurro_cap_1.txt', 'r', encoding='utf-8') as arquivo:\n",
    "    texto = arquivo.read()\n",
    "    print(texto)"
   ]
  },
  {
   "cell_type": "code",
   "execution_count": 7,
   "id": "2a0ceddb",
   "metadata": {},
   "outputs": [
    {
     "ename": "ValueError",
     "evalue": "I/O operation on closed file.",
     "output_type": "error",
     "traceback": [
      "\u001b[1;31m---------------------------------------------------------------------------\u001b[0m",
      "\u001b[1;31mValueError\u001b[0m                                Traceback (most recent call last)",
      "Cell \u001b[1;32mIn [7], line 1\u001b[0m\n\u001b[1;32m----> 1\u001b[0m \u001b[43marquivo\u001b[49m\u001b[38;5;241;43m.\u001b[39;49m\u001b[43mread\u001b[49m\u001b[43m(\u001b[49m\u001b[43m)\u001b[49m\n",
      "\u001b[1;31mValueError\u001b[0m: I/O operation on closed file."
     ]
    }
   ],
   "source": [
    "arquivo.read()"
   ]
  },
  {
   "cell_type": "markdown",
   "id": "977e4650",
   "metadata": {},
   "source": [
    "## Manipulação"
   ]
  },
  {
   "cell_type": "markdown",
   "id": "313c8fcf",
   "metadata": {},
   "source": [
    "Para fazer a manipulação de arquivos usando o python, nós vamos usar a mesma estrutura vista para leitura, a diferença é que agora nós precisamos mudar a flag que diz de que forma queremos usar o arquivo. Como queremos escrever, vamos usar o 'w' de 'write'. O resto é igual.\n",
    "Para escrever, nós vamos agora receber um set de funções de escrita. E vamos usar o método write.\n",
    "\n",
    "Atenção: o método 'w' de abertura permite a subrescrição de arquivos, isso é, o programa vai procurar um arquivo com o nome especificado. Se ele achar, ele vai **substituir o arquivo**, se não, vai criar um novo. "
   ]
  },
  {
   "cell_type": "code",
   "execution_count": 8,
   "id": "5ce493d8",
   "metadata": {},
   "outputs": [],
   "source": [
    "with open('arquivo_teste.txt', 'w', encoding='utf-8') as arquivo:\n",
    "    arquivo.write('Essa é uma linha que eu escrevi usando Python\\n')\n",
    "    arquivo.write('Essa é a segunda linha que eu escrevi usando Python\\n')"
   ]
  },
  {
   "cell_type": "markdown",
   "id": "d00dbe24",
   "metadata": {},
   "source": [
    "Agora podemos ler o arquivo que criamos anteriormente, da forma que aprendemos antes."
   ]
  },
  {
   "cell_type": "code",
   "execution_count": 10,
   "id": "721808b8",
   "metadata": {
    "scrolled": false
   },
   "outputs": [
    {
     "name": "stdout",
     "output_type": "stream",
     "text": [
      "Essa é uma linha que eu escrevi usando Python\n",
      "Essa é a segunda linha que eu escrevi usando Python\n",
      "\n"
     ]
    }
   ],
   "source": [
    "with open('arquivo_teste.txt', 'r', encoding='utf-8') as arquivo:\n",
    "    print(arquivo.read(), end='')"
   ]
  },
  {
   "cell_type": "markdown",
   "id": "281c2919",
   "metadata": {},
   "source": [
    "Agora, para adicionar novos dados no fim de um arquivo que já existe, nós podemos usar a flag 'a', de 'append':"
   ]
  },
  {
   "cell_type": "code",
   "execution_count": 12,
   "id": "b8b9c7e6",
   "metadata": {
    "scrolled": false
   },
   "outputs": [
    {
     "name": "stdout",
     "output_type": "stream",
     "text": [
      "Essa é uma linha que eu escrevi usando Python\n",
      "Essa é a segunda linha que eu escrevi usando Python\n",
      "Essa é a terceira linha que eu escrevi usando Python\n"
     ]
    }
   ],
   "source": [
    "with open('arquivo_teste.txt', 'r', encoding='utf-8') as arquivo:\n",
    "    print(arquivo.read(), end='')"
   ]
  },
  {
   "cell_type": "markdown",
   "id": "e6bb4f2a",
   "metadata": {},
   "source": []
  },
  {
   "cell_type": "code",
   "execution_count": 11,
   "id": "b0f157da",
   "metadata": {},
   "outputs": [],
   "source": [
    "with open('arquivo_teste.txt', 'a', encoding='utf-8') as arquivo:\n",
    "    arquivo.write('Essa é a terceira linha que eu escrevi usando Python\\n')"
   ]
  },
  {
   "cell_type": "code",
   "execution_count": null,
   "id": "501ba096",
   "metadata": {},
   "outputs": [],
   "source": []
  }
 ],
 "metadata": {
  "kernelspec": {
   "display_name": "Python 3 (ipykernel)",
   "language": "python",
   "name": "python3"
  },
  "language_info": {
   "codemirror_mode": {
    "name": "ipython",
    "version": 3
   },
   "file_extension": ".py",
   "mimetype": "text/x-python",
   "name": "python",
   "nbconvert_exporter": "python",
   "pygments_lexer": "ipython3",
   "version": "3.10.7"
  }
 },
 "nbformat": 4,
 "nbformat_minor": 5
}
